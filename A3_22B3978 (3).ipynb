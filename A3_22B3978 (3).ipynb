{
  "cells": [
    {
      "cell_type": "markdown",
      "source": [
        "#EE353: Assignment 3\n",
        "#Sanjay Meena\n",
        "#22b3978"
      ],
      "metadata": {
        "id": "jZfa343m8pHZ"
      }
    },
    {
      "cell_type": "markdown",
      "source": [
        "#Video Link:-\n",
        "https://drive.google.com/file/d/14y_zbtuCMcp-0ZH1bpuPD81_UIq3H7DD/view?usp=sharing"
      ],
      "metadata": {
        "id": "6ma2comX82e9"
      }
    },
    {
      "cell_type": "markdown",
      "metadata": {
        "id": "OKUKM35ZFM_0"
      },
      "source": [
        "#1. Perform Exploratory Data Analysis\n",
        "  a. Which variables are usable, and which are not? Why?\n",
        "\n",
        "  ANS: Useful Variables:\n",
        "\n",
        "  age, balance, duration, campaign, pdays, and previous: These numerical columns have non-null entries and provide valuable information related to the clients' profiles and interactions.\n",
        "  job, marital, education, housing, loan, contact, deposit: These categorical variables provide insights into customer demographics and financial status.\n",
        "\n",
        "  Not Useful Variables:\n",
        "\n",
        "  poutcome: This variable has a significant portion labeled as \"unknown\" (8326 out of 11162), making it less reliable for meaningful analysis.\n",
        "\n",
        "\n",
        "  b. Are there significant correlations or other relations among variables?\n",
        "\n",
        "  ANS: previous and pdays show a moderate correlation\n",
        "      of 0.51\n",
        "\n",
        "  c. Are the classes balanced? Classes are in poutcome column.\n",
        "\n",
        "  ANS: The classes in the poutcome column are not\n",
        "       balanced. Here is the distribution of the classes:\n",
        "\n",
        "  Unknown: 8326 instances\n",
        "\n",
        "  Failure: 1228 instances\n",
        "\n",
        "  Success: 1071 instances\n",
        "\n",
        "  Other: 537 instances\n",
        "\n",
        "  The \"unknown\" category is overwhelmingly dominant, which could limit the utility of this variable for classification tasks.\n",
        "\n",
        "  d. Which classes will you use?\n",
        "\n",
        "   ANS: For the target variable, we’ll use the deposit\n",
        "        column with the classes yes (deposit made) and no (no deposit), as instructed, rather than the less informative poutcome column.\n"
      ]
    },
    {
      "cell_type": "code",
      "execution_count": null,
      "metadata": {
        "id": "Sym2gcl3EiEo"
      },
      "outputs": [],
      "source": [
        "import pandas as pd  # Importing pandas for data manipulation\n",
        "import seaborn as sns  # Importing seaborn for data visualization\n",
        "import matplotlib.pyplot as plt  # Importing matplotlib for plotting\n",
        "import numpy as np  # Importing numpy for numerical operations\n",
        "\n",
        "\n",
        "\n"
      ]
    },
    {
      "cell_type": "code",
      "execution_count": null,
      "metadata": {
        "colab": {
          "base_uri": "https://localhost:8080/",
          "height": 1000
        },
        "id": "qmjmHoOoKMQN",
        "outputId": "a8163f8a-1c2d-490f-b2c5-dab64bf65eed"
      },
      "outputs": [
        {
          "output_type": "stream",
          "name": "stdout",
          "text": [
            "<class 'pandas.core.frame.DataFrame'>\n",
            "RangeIndex: 11162 entries, 0 to 11161\n",
            "Data columns (total 17 columns):\n",
            " #   Column     Non-Null Count  Dtype \n",
            "---  ------     --------------  ----- \n",
            " 0   age        11162 non-null  int64 \n",
            " 1   job        11162 non-null  object\n",
            " 2   marital    11162 non-null  object\n",
            " 3   education  11162 non-null  object\n",
            " 4   default    11162 non-null  object\n",
            " 5   balance    11162 non-null  int64 \n",
            " 6   housing    11162 non-null  object\n",
            " 7   loan       11162 non-null  object\n",
            " 8   contact    11162 non-null  object\n",
            " 9   day        11162 non-null  int64 \n",
            " 10  month      11162 non-null  object\n",
            " 11  duration   11162 non-null  int64 \n",
            " 12  campaign   11162 non-null  int64 \n",
            " 13  pdays      11162 non-null  int64 \n",
            " 14  previous   11162 non-null  int64 \n",
            " 15  poutcome   11162 non-null  object\n",
            " 16  deposit    11162 non-null  object\n",
            "dtypes: int64(7), object(10)\n",
            "memory usage: 1.4+ MB\n",
            "None\n",
            "                age       balance           day      duration      campaign  \\\n",
            "count  11162.000000  11162.000000  11162.000000  11162.000000  11162.000000   \n",
            "mean      41.231948   1528.538524     15.658036    371.993818      2.508421   \n",
            "std       11.913369   3225.413326      8.420740    347.128386      2.722077   \n",
            "min       18.000000  -6847.000000      1.000000      2.000000      1.000000   \n",
            "25%       32.000000    122.000000      8.000000    138.000000      1.000000   \n",
            "50%       39.000000    550.000000     15.000000    255.000000      2.000000   \n",
            "75%       49.000000   1708.000000     22.000000    496.000000      3.000000   \n",
            "max       95.000000  81204.000000     31.000000   3881.000000     63.000000   \n",
            "\n",
            "              pdays      previous  \n",
            "count  11162.000000  11162.000000  \n",
            "mean      51.330407      0.832557  \n",
            "std      108.758282      2.292007  \n",
            "min       -1.000000      0.000000  \n",
            "25%       -1.000000      0.000000  \n",
            "50%       -1.000000      0.000000  \n",
            "75%       20.750000      1.000000  \n",
            "max      854.000000     58.000000  \n",
            "Poutcome value counts:\n",
            " poutcome\n",
            "unknown    8326\n",
            "failure    1228\n",
            "success    1071\n",
            "other       537\n",
            "Name: count, dtype: int64\n"
          ]
        },
        {
          "output_type": "display_data",
          "data": {
            "text/plain": [
              "<Figure size 640x480 with 2 Axes>"
            ],
            "image/png": "[encoded data removed]"
          },
          "metadata": {}
        }
      ],
      "source": [
        "# Google Drive file ID\n",
        "file_id = '13jU-OLkaRMkD95e9hmyKTkBM0N_o1xfQ'\n",
        "\n",
        "# Construct the direct download URL\n",
        "download_url = f'https://drive.google.com/uc?export=download&id={file_id}'\n",
        "\n",
        "# Load the dataset\n",
        "data = pd.read_csv(download_url) # Loading the dataset into a DataFrame\n",
        "\n",
        "# Display dataset information\n",
        "print(data.info())  # Printing data types and non-null counts for each column\n",
        "print(data.describe())  # Printing statistical summary for numerical columns\n",
        "\n",
        "# Check class balance in 'poutcome'\n",
        "print(\"Poutcome value counts:\\n\", data['poutcome'].value_counts())  # Displaying class distribution in 'poutcome'\n",
        "\n",
        "# Correlation among numerical features\n",
        "numerical_data = data.select_dtypes(include=np.number)  # Selecting only numerical columns\n",
        "correlation_matrix = numerical_data.corr()  # Calculating correlation matrix\n",
        "sns.heatmap(correlation_matrix, annot=True, cmap='coolwarm')  # Plotting heatmap for correlations\n",
        "plt.title('Correlation Heatmap')  # Setting plot title\n",
        "plt.show()  # Displaying the plot\n"
      ]
    },
    {
      "cell_type": "markdown",
      "metadata": {
        "id": "qv2avQrNZFRE"
      },
      "source": [
        "#2. Select metrics that you will use, such as accuracy, F1 score, balanced accuracy, AUC etc. and state the reasonfor the choice.\n",
        "\n",
        "Accuracy=0.8567\n",
        "\n",
        "F1 Score=0.8533\n",
        "\n",
        "Balanced Accuracy=0.8578\n",
        "\n",
        "AUC=0.9184"
      ]
    },
    {
      "cell_type": "code",
      "execution_count": null,
      "metadata": {
        "id": "auojTC28UuR8"
      },
      "outputs": [],
      "source": [
        "# Importing necessary library for splitting dataset into training and test sets\n",
        "from sklearn.model_selection import train_test_split\n",
        "\n",
        "# Importing LabelEncoder for converting categorical labels into numeric form\n",
        "from sklearn.preprocessing import LabelEncoder\n",
        "\n",
        "# Importing RandomForestClassifier for building a random forest classification model\n",
        "from sklearn.ensemble import RandomForestClassifier\n",
        "\n",
        "# Importing metrics to evaluate model performance:\n",
        "# - accuracy_score: to calculate the overall accuracy of the model\n",
        "# - f1_score: to measure the balance between precision and recall\n",
        "# - balanced_accuracy_score: to compute balanced accuracy accounting for class imbalance\n",
        "# - roc_auc_score: to calculate the area under the ROC curve, indicating the model’s ability to distinguish classes\n",
        "from sklearn.metrics import accuracy_score, f1_score, balanced_accuracy_score, roc_auc_score\n",
        "\n",
        "# Importing functions to create and evaluate the ROC curve:\n",
        "# - roc_curve: calculates the false positive rate (FPR) and true positive rate (TPR) at different thresholds\n",
        "# - auc: computes the area under the ROC curve (AUC), summarizing the model’s performance across all thresholds\n",
        "from sklearn.metrics import roc_curve, auc\n"
      ]
    },
    {
      "cell_type": "code",
      "execution_count": null,
      "metadata": {
        "id": "_5ZMbSE8H07h"
      },
      "outputs": [],
      "source": [
        "# Preprocessing: Encoding categorical features\n",
        "# Setting up the encoding process for categorical data to make it suitable for machine learning models\n",
        "\n",
        "# Using LabelEncoder for binary columns and pd.get_dummies for multi-class columns\n",
        "Label_Encoder = LabelEncoder()  # Initializing a LabelEncoder instance\n",
        "\n",
        "# Encoding the target variable 'deposit'\n",
        "# The fit_transform function assigns 'yes' to 1 and 'no' to 0\n",
        "data['deposit'] = Label_Encoder.fit_transform(data['deposit'])  # Target variable encoding: 'yes' -> 1, 'no' -> 0\n",
        "\n",
        "# Encoding categorical features using pd.get_dummies for one-hot encoding\n",
        "# The 'columns' parameter specifies which columns to encode, with a list comprehension\n",
        "# Checking if each column exists in the DataFrame to avoid errors\n",
        "Data_Encoded = pd.get_dummies(\n",
        "    data,  # The original DataFrame\n",
        "    columns=[col for col in ['job', 'marital', 'education', 'default', 'housing', 'loan', 'contact', 'month', 'poutcome']\n",
        "             if col in data.columns],  # Columns to encode if present\n",
        "    drop_first=True  # Dropping the first category in each encoded column to avoid multicollinearity\n",
        ")\n"
      ]
    },
    {
      "cell_type": "code",
      "execution_count": null,
      "metadata": {
        "id": "Gt7ICQZjZ4H9"
      },
      "outputs": [],
      "source": [
        "# Separating features and target\n",
        "X = Data_Encoded.drop(columns=['deposit'])  # Dropping the target column 'deposit' to create the feature set\n",
        "y = Data_Encoded['deposit']  # Setting 'deposit' column as the target variable\n",
        "\n",
        "# Splitting dataset into training and testing sets\n",
        "# Using train_test_split to divide data into training and test sets with a 70-30 split\n",
        "X_train, X_test, y_train, y_test = train_test_split(\n",
        "    X,  # Features\n",
        "    y,  # Target variable\n",
        "    test_size=0.3,  # 30% of the data is set aside for testing\n",
        "    random_state=42,  # Ensures reproducibility by using a fixed seed\n",
        "    stratify=y  # Maintains the same class distribution in both train and test sets\n",
        ")\n",
        "\n",
        "# Model training: Using RandomForest as an example classifier\n",
        "MODEL = RandomForestClassifier(random_state=42)  # Initializing a RandomForest model with a fixed seed\n",
        "MODEL.fit(X_train, y_train)  # Training the model on the training data (features and target)\n",
        "\n",
        "# Predictions\n",
        "y_predication = MODEL.predict(X_test)  # Generating predictions on the test data\n",
        "y_predication_probability = MODEL.predict_proba(X_test)[:, 1]  # Getting the probability of the positive class for AUC calculation\n"
      ]
    },
    {
      "cell_type": "code",
      "execution_count": null,
      "metadata": {
        "colab": {
          "base_uri": "https://localhost:8080/"
        },
        "id": "5u4aB6OBH0t9",
        "outputId": "416c8ff3-0c06-4d88-998a-cb15f38595ae"
      },
      "outputs": [
        {
          "output_type": "execute_result",
          "data": {
            "text/plain": [
              "(0.8569722305165721,\n",
              " 0.8538297223069881,\n",
              " 0.8581921285816155,\n",
              " 0.9183785753572407)"
            ]
          },
          "metadata": {},
          "execution_count": 12
        }
      ],
      "source": [
        "# Calculating metrics\n",
        "Accuracy = accuracy_score(y_test, y_predication)  # Computes the accuracy metric, representing the percentage of correct predictions\n",
        "F1_score = f1_score(y_test, y_predication)  # Calculates the F1 score, balancing precision and recall, particularly useful for imbalanced classes\n",
        "balanced_accuracy = balanced_accuracy_score(y_test, y_predication)  # Computes balanced accuracy, which considers class imbalance by averaging recall for each class\n",
        "AUC = roc_auc_score(y_test, y_predication_probability)  # Calculates the Area Under the ROC Curve (AUC), using prediction probabilities for the positive class\n",
        "\n",
        "# Displaying the results\n",
        "Accuracy, F1_score, balanced_accuracy, AUC  # Outputting the calculated metrics for quick assessment of model performance\n"
      ]
    },
    {
      "cell_type": "markdown",
      "metadata": {
        "id": "D-uMHssBcV_n"
      },
      "source": [
        "#3. Develop a strategy to filter and code variables.\n",
        "\n",
        " a. Should you be using continuous variables as they are, or should you normalize them, or take atransform? Why?\n",
        "\n",
        " b. Should you be using all values of discrete variables, or should you try to reduce them by combining some of the values?\n",
        "\n",
        " c. Are some variables very likely to be unreliable, noisy, or otherwise immaterial?\n",
        "\n",
        "#Solution:-\n",
        "a. Apply normalization to all continuous variables and\n",
        "   a log transform specifically to balance and duration, as they may have significant outliers or skewed distributions.\n",
        "\n",
        "b. Combine categories where possible to reduce the    dimensionality of discrete variables, particularly for variables with many unique values or redundant categories.\n",
        "\n",
        "c. Drop or reduce the impact of poutcome, day, and potentially contact after verifying their correlation with the target variable.\n"
      ]
    },
    {
      "cell_type": "code",
      "execution_count": null,
      "metadata": {
        "id": "nM3g_qPzZ_pa"
      },
      "outputs": [],
      "source": [
        "from sklearn.preprocessing import StandardScaler  # Importing StandardScaler for normalizing continuous variables\n",
        "\n",
        "# Copy the dataset for transformation\n",
        "data_transformed = data.copy()  # Making a copy of the original dataset to avoid modifying it directly\n",
        "\n",
        "# Step 1: Log Transform and Normalize Continuous Variables\n",
        "\n",
        "# Log transformation for skewed variables\n",
        "# Replace negative values with 0 before applying log1p (logarithm of 1 + x)\n",
        "data_transformed['balance'] = np.log1p(np.where(data_transformed['balance'] > 0, data_transformed['balance'], 0))  # Apply log transformation to 'balance' column, handling negative values\n",
        "data_transformed['duration'] = np.log1p(np.where(data_transformed['duration'] > 0, data_transformed['duration'], 0))  # Apply log transformation to 'duration' column, handling negative values\n",
        "\n",
        "# Standardizing all continuous features\n",
        "scaler = StandardScaler()  # Initializing the scaler for standardization (zero mean and unit variance)\n",
        "continuous_variables = ['age', 'balance', 'day', 'duration', 'campaign', 'pdays', 'previous']  # Listing all continuous columns to be standardized\n",
        "\n",
        "# Replace infinities with NaNs and impute with median (robust to outliers)\n",
        "data_transformed[continuous_variables] = data_transformed[continuous_variables].replace([np.inf, -np.inf], np.nan)  # Replace infinity values with NaN\n",
        "data_transformed[continuous_variables] = data_transformed[continuous_variables].fillna(data_transformed[continuous_variables].median())  # Fill NaN values with the median of each column\n",
        "\n",
        "# Apply standard scaling to continuous variables\n",
        "data_transformed[continuous_variables] = scaler.fit_transform(data_transformed[continuous_variables])  # Fit the scaler and transform the continuous columns\n"
      ]
    },
    {
      "cell_type": "code",
      "execution_count": null,
      "metadata": {
        "id": "l0XWGPqMZ_l4"
      },
      "outputs": [],
      "source": [
        "# Step 2: Encoding and Reducing Categories for Categorical Variables\n",
        "\n",
        "# Binary encoding for `default`, `housing`, and `loan` (yes/no as 1/0)\n",
        "binary_variables = ['default', 'housing', 'loan']  # Defining variables with binary responses\n",
        "for var in binary_variables:\n",
        "    data_transformed[var] = Label_Encoder.fit_transform(data_transformed[var])  # Encoding each binary variable with 1 for 'yes' and 0 for 'no'\n",
        "\n",
        "# Reducing categories for 'poutcome' to known/unknown\n",
        "# This transformation generalizes 'poutcome' by labeling non-'unknown' outcomes as 'known'\n",
        "data_transformed['poutcome'] = data_transformed['poutcome'].apply(lambda x: 'known' if x != 'unknown' else 'unknown')\n",
        "\n",
        "# Reducing categories in `job` by grouping similar roles (e.g., blue-collar, white-collar)\n",
        "job_grouping = {  # Dictionary mapping original job titles to grouped categories\n",
        "    'admin.': 'white-collar', 'management': 'white-collar', 'technician': 'blue-collar',\n",
        "    'services': 'blue-collar', 'retired': 'non-working', 'student': 'non-working',\n",
        "    'self-employed': 'entrepreneur', 'entrepreneur': 'entrepreneur', 'housemaid': 'non-working',\n",
        "    'unemployed': 'non-working', 'blue-collar': 'blue-collar'\n",
        "}\n",
        "data_transformed['job'] = data_transformed['job'].map(job_grouping).fillna('other')  # Mapping jobs to grouped categories and filling any missing values with 'other'\n"
      ]
    },
    {
      "cell_type": "code",
      "execution_count": null,
      "metadata": {
        "colab": {
          "base_uri": "https://localhost:8080/",
          "height": 255
        },
        "id": "AKqz-ao-Z_iv",
        "outputId": "df45ffae-cf3b-4e80-e62f-8026d4580dbc"
      },
      "outputs": [
        {
          "output_type": "execute_result",
          "data": {
            "text/plain": [
              "        age  default   balance  housing  loan       day  duration  campaign  \\\n",
              "0  1.491505        0  0.806028        1     0 -1.265746  1.494272 -0.554168   \n",
              "1  1.239676        0 -0.673348        0     0 -1.265746  1.851940 -0.554168   \n",
              "2 -0.019470        0  0.575689        1     0 -1.265746  1.794808 -0.554168   \n",
              "3  1.155733        0  0.826798        1     0 -1.265746  0.880199 -0.554168   \n",
              "4  1.071790        0 -0.149592        0     0 -1.265746  1.037374 -0.186785   \n",
              "\n",
              "      pdays  previous  ...  marital_single  education_secondary  \\\n",
              "0 -0.481184  -0.36326  ...           False                 True   \n",
              "1 -0.481184  -0.36326  ...           False                 True   \n",
              "2 -0.481184  -0.36326  ...           False                 True   \n",
              "3 -0.481184  -0.36326  ...           False                 True   \n",
              "4 -0.481184  -0.36326  ...           False                False   \n",
              "\n",
              "   education_tertiary  education_unknown  contact_telephone  contact_unknown  \\\n",
              "0               False              False              False             True   \n",
              "1               False              False              False             True   \n",
              "2               False              False              False             True   \n",
              "3               False              False              False             True   \n",
              "4                True              False              False             True   \n",
              "\n",
              "   month_Q2  month_Q3  month_Q4  poutcome_unknown  \n",
              "0      True     False     False              True  \n",
              "1      True     False     False              True  \n",
              "2      True     False     False              True  \n",
              "3      True     False     False              True  \n",
              "4      True     False     False              True  \n",
              "\n",
              "[5 rows x 26 columns]"
            ],
            "text/html": [
              "\n",
              "  <div id=\"df-65409342-395a-4c41-aedc-5d088dcb3fb5\" class=\"colab-df-container\">\n",
              "    <div>\n",
              "<style scoped>\n",
              "    .dataframe tbody tr th:only-of-type {\n",
              "        vertical-align: middle;\n",
              "    }\n",
              "\n",
              "    .dataframe tbody tr th {\n",
              "        vertical-align: top;\n",
              "    }\n",
              "\n",
              "    .dataframe thead th {\n",
              "        text-align: right;\n",
              "    }\n",
              "</style>\n",
              "<table border=\"1\" class=\"dataframe\">\n",
              "  <thead>\n",
              "    <tr style=\"text-align: right;\">\n",
              "      <th></th>\n",
              "      <th>age</th>\n",
              "      <th>default</th>\n",
              "      <th>balance</th>\n",
              "      <th>housing</th>\n",
              "      <th>loan</th>\n",
              "      <th>day</th>\n",
              "      <th>duration</th>\n",
              "      <th>campaign</th>\n",
              "      <th>pdays</th>\n",
              "      <th>previous</th>\n",
              "      <th>...</th>\n",
              "      <th>marital_single</th>\n",
              "      <th>education_secondary</th>\n",
              "      <th>education_tertiary</th>\n",
              "      <th>education_unknown</th>\n",
              "      <th>contact_telephone</th>\n",
              "      <th>contact_unknown</th>\n",
              "      <th>month_Q2</th>\n",
              "      <th>month_Q3</th>\n",
              "      <th>month_Q4</th>\n",
              "      <th>poutcome_unknown</th>\n",
              "    </tr>\n",
              "  </thead>\n",
              "  <tbody>\n",
              "    <tr>\n",
              "      <th>0</th>\n",
              "      <td>1.491505</td>\n",
              "      <td>0</td>\n",
              "      <td>0.806028</td>\n",
              "      <td>1</td>\n",
              "      <td>0</td>\n",
              "      <td>-1.265746</td>\n",
              "      <td>1.494272</td>\n",
              "      <td>-0.554168</td>\n",
              "      <td>-0.481184</td>\n",
              "      <td>-0.36326</td>\n",
              "      <td>...</td>\n",
              "      <td>False</td>\n",
              "      <td>True</td>\n",
              "      <td>False</td>\n",
              "      <td>False</td>\n",
              "      <td>False</td>\n",
              "      <td>True</td>\n",
              "      <td>True</td>\n",
              "      <td>False</td>\n",
              "      <td>False</td>\n",
              "      <td>True</td>\n",
              "    </tr>\n",
              "    <tr>\n",
              "      <th>1</th>\n",
              "      <td>1.239676</td>\n",
              "      <td>0</td>\n",
              "      <td>-0.673348</td>\n",
              "      <td>0</td>\n",
              "      <td>0</td>\n",
              "      <td>-1.265746</td>\n",
              "      <td>1.851940</td>\n",
              "      <td>-0.554168</td>\n",
              "      <td>-0.481184</td>\n",
              "      <td>-0.36326</td>\n",
              "      <td>...</td>\n",
              "      <td>False</td>\n",
              "      <td>True</td>\n",
              "      <td>False</td>\n",
              "      <td>False</td>\n",
              "      <td>False</td>\n",
              "      <td>True</td>\n",
              "      <td>True</td>\n",
              "      <td>False</td>\n",
              "      <td>False</td>\n",
              "      <td>True</td>\n",
              "    </tr>\n",
              "    <tr>\n",
              "      <th>2</th>\n",
              "      <td>-0.019470</td>\n",
              "      <td>0</td>\n",
              "      <td>0.575689</td>\n",
              "      <td>1</td>\n",
              "      <td>0</td>\n",
              "      <td>-1.265746</td>\n",
              "      <td>1.794808</td>\n",
              "      <td>-0.554168</td>\n",
              "      <td>-0.481184</td>\n",
              "      <td>-0.36326</td>\n",
              "      <td>...</td>\n",
              "      <td>False</td>\n",
              "      <td>True</td>\n",
              "      <td>False</td>\n",
              "      <td>False</td>\n",
              "      <td>False</td>\n",
              "      <td>True</td>\n",
              "      <td>True</td>\n",
              "      <td>False</td>\n",
              "      <td>False</td>\n",
              "      <td>True</td>\n",
              "    </tr>\n",
              "    <tr>\n",
              "      <th>3</th>\n",
              "      <td>1.155733</td>\n",
              "      <td>0</td>\n",
              "      <td>0.826798</td>\n",
              "      <td>1</td>\n",
              "      <td>0</td>\n",
              "      <td>-1.265746</td>\n",
              "      <td>0.880199</td>\n",
              "      <td>-0.554168</td>\n",
              "      <td>-0.481184</td>\n",
              "      <td>-0.36326</td>\n",
              "      <td>...</td>\n",
              "      <td>False</td>\n",
              "      <td>True</td>\n",
              "      <td>False</td>\n",
              "      <td>False</td>\n",
              "      <td>False</td>\n",
              "      <td>True</td>\n",
              "      <td>True</td>\n",
              "      <td>False</td>\n",
              "      <td>False</td>\n",
              "      <td>True</td>\n",
              "    </tr>\n",
              "    <tr>\n",
              "      <th>4</th>\n",
              "      <td>1.071790</td>\n",
              "      <td>0</td>\n",
              "      <td>-0.149592</td>\n",
              "      <td>0</td>\n",
              "      <td>0</td>\n",
              "      <td>-1.265746</td>\n",
              "      <td>1.037374</td>\n",
              "      <td>-0.186785</td>\n",
              "      <td>-0.481184</td>\n",
              "      <td>-0.36326</td>\n",
              "      <td>...</td>\n",
              "      <td>False</td>\n",
              "      <td>False</td>\n",
              "      <td>True</td>\n",
              "      <td>False</td>\n",
              "      <td>False</td>\n",
              "      <td>True</td>\n",
              "      <td>True</td>\n",
              "      <td>False</td>\n",
              "      <td>False</td>\n",
              "      <td>True</td>\n",
              "    </tr>\n",
              "  </tbody>\n",
              "</table>\n",
              "<p>5 rows × 26 columns</p>\n",
              "</div>\n",
              "    <div class=\"colab-df-buttons\">\n",
              "      \n",
              "  <div class=\"colab-df-container\">\n",
              "    <button class=\"colab-df-convert\" onclick=\"convertToInteractive('df-65409342-395a-4c41-aedc-5d088dcb3fb5')\"\n",
              "            title=\"Convert this dataframe to an interactive table.\"\n",
              "            style=\"display:none;\">\n",
              "      \n",
              "  <svg xmlns=\"http://www.w3.org/2000/svg\" height=\"24px\" viewBox=\"0 -960 960 960\">\n",
              "    <path d=\"M120-120v-720h720v720H120Zm60-500h600v-160H180v160Zm220 220h160v-160H400v160Zm0 220h160v-160H400v160ZM180-400h160v-160H180v160Zm440 0h160v-160H620v160ZM180-180h160v-160H180v160Zm440 0h160v-160H620v160Z\"/>\n",
              "  </svg>\n",
              "    </button>\n",
              "    \n",
              "  <style>\n",
              "    .colab-df-container {\n",
              "      display:flex;\n",
              "      gap: 12px;\n",
              "    }\n",
              "\n",
              "    .colab-df-convert {\n",
              "      background-color: #E8F0FE;\n",
              "      border: none;\n",
              "      border-radius: 50%;\n",
              "      cursor: pointer;\n",
              "      display: none;\n",
              "      fill: #1967D2;\n",
              "      height: 32px;\n",
              "      padding: 0 0 0 0;\n",
              "      width: 32px;\n",
              "    }\n",
              "\n",
              "    .colab-df-convert:hover {\n",
              "      background-color: #E2EBFA;\n",
              "      box-shadow: 0px 1px 2px rgba(60, 64, 67, 0.3), 0px 1px 3px 1px rgba(60, 64, 67, 0.15);\n",
              "      fill: #174EA6;\n",
              "    }\n",
              "\n",
              "    .colab-df-buttons div {\n",
              "      margin-bottom: 4px;\n",
              "    }\n",
              "\n",
              "    [theme=dark] .colab-df-convert {\n",
              "      background-color: #3B4455;\n",
              "      fill: #D2E3FC;\n",
              "    }\n",
              "\n",
              "    [theme=dark] .colab-df-convert:hover {\n",
              "      background-color: #434B5C;\n",
              "      box-shadow: 0px 1px 3px 1px rgba(0, 0, 0, 0.15);\n",
              "      filter: drop-shadow(0px 1px 2px rgba(0, 0, 0, 0.3));\n",
              "      fill: #FFFFFF;\n",
              "    }\n",
              "  </style>\n",
              "\n",
              "    <script>\n",
              "      const buttonEl =\n",
              "        document.querySelector('#df-65409342-395a-4c41-aedc-5d088dcb3fb5 button.colab-df-convert');\n",
              "      buttonEl.style.display =\n",
              "        google.colab.kernel.accessAllowed ? 'block' : 'none';\n",
              "\n",
              "      async function convertToInteractive(key) {\n",
              "        const element = document.querySelector('#df-65409342-395a-4c41-aedc-5d088dcb3fb5');\n",
              "        const dataTable =\n",
              "          await google.colab.kernel.invokeFunction('convertToInteractive',\n",
              "                                                    [key], {});\n",
              "        if (!dataTable) return;\n",
              "\n",
              "        const docLinkHtml = 'Like what you see? Visit the ' +\n",
              "          '<a target=\"_blank\" href=https://colab.research.google.com/notebooks/data_table.ipynb>data table notebook</a>'\n",
              "          + ' to learn more about interactive tables.';\n",
              "        element.innerHTML = '';\n",
              "        dataTable['output_type'] = 'display_data';\n",
              "        await google.colab.output.renderOutput(dataTable, element);\n",
              "        const docLink = document.createElement('div');\n",
              "        docLink.innerHTML = docLinkHtml;\n",
              "        element.appendChild(docLink);\n",
              "      }\n",
              "    </script>\n",
              "  </div>\n",
              "  \n",
              "    </div>\n",
              "  </div>\n",
              "  "
            ]
          },
          "metadata": {},
          "execution_count": 15
        }
      ],
      "source": [
        "# Grouping 'education' to primary, secondary, tertiary\n",
        "education_grouping = {  # Dictionary to map education levels to broader categories\n",
        "    'primary': 'primary', 'secondary': 'secondary', 'tertiary': 'tertiary', 'unknown': 'unknown'\n",
        "}\n",
        "data_transformed['education'] = data_transformed['education'].map(education_grouping)  # Applying the mapping to the 'education' column\n",
        "\n",
        "# Grouping 'month' into quarters (Q1, Q2, Q3, Q4)\n",
        "month_to_quarter = {  # Dictionary to map months to their respective quarters\n",
        "    'jan': 'Q1', 'feb': 'Q1', 'mar': 'Q1',\n",
        "    'apr': 'Q2', 'may': 'Q2', 'jun': 'Q2',\n",
        "    'jul': 'Q3', 'aug': 'Q3', 'sep': 'Q3',\n",
        "    'oct': 'Q4', 'nov': 'Q4', 'dec': 'Q4'\n",
        "}\n",
        "data_transformed['month'] = data_transformed['month'].map(month_to_quarter)  # Applying the mapping to the 'month' column\n",
        "\n",
        "# Encoding the modified categorical variables with get_dummies\n",
        "data_encoded_final = pd.get_dummies(  # One-hot encoding selected categorical columns\n",
        "    data_transformed,\n",
        "    columns=['job', 'marital', 'education', 'contact', 'month', 'poutcome'],  # Specifying columns to encode\n",
        "    drop_first=True  # Dropping the first category to avoid multicollinearity\n",
        ")\n",
        "\n",
        "# Displaying the first few rows of the transformed dataset\n",
        "data_encoded_final.head()  # Viewing the resulting DataFrame to check transformations\n"
      ]
    },
    {
      "cell_type": "markdown",
      "metadata": {
        "id": "JUT8cVTDgKoT"
      },
      "source": [
        "#4. Carve out some test data. Should this be balanced in some way?\n",
        "#Approach\n",
        "Since the target variable (deposit) in bank.csv is already fairly balanced, we can use stratified sampling to split the data. This method ensures that both training and test sets retain a similar proportion of \"yes\" and \"no\" classes, resulting in balanced evaluation."
      ]
    },
    {
      "cell_type": "code",
      "execution_count": null,
      "metadata": {
        "colab": {
          "base_uri": "https://localhost:8080/"
        },
        "id": "UiBN9CaoZ_do",
        "outputId": "98ec472d-f15d-47a9-83b2-48c2649f4478"
      },
      "outputs": [
        {
          "output_type": "execute_result",
          "data": {
            "text/plain": [
              "(deposit\n",
              " 0    0.526174\n",
              " 1    0.473826\n",
              " Name: proportion, dtype: float64,\n",
              " deposit\n",
              " 0    0.526127\n",
              " 1    0.473873\n",
              " Name: proportion, dtype: float64)"
            ]
          },
          "metadata": {},
          "execution_count": 16
        }
      ],
      "source": [
        "# Carve out test data using stratified sampling to maintain class balance in `deposit`\n",
        "X_train, X_test, y_train, y_test = train_test_split(\n",
        "    X, y, test_size=0.3, random_state=42, stratify=y  # Splitting the data while preserving the target class distribution\n",
        ")\n",
        "\n",
        "# Replace infinities with NaNs in the training set and drop rows with missing values\n",
        "X_train = X_train.replace([np.inf, -np.inf], np.nan).dropna()\n",
        "\n",
        "# Fill any remaining NaN values in `X_train` with the mean of each column\n",
        "X_train = X_train.fillna(X_train.mean())\n",
        "\n",
        "# Align `y_train` with `X_train` after dropping rows to ensure index consistency\n",
        "y_train = y_train[X_train.index]\n",
        "\n",
        "# Checking the distribution of target classes in the training and test sets\n",
        "y_train_distribution = y_train.value_counts(normalize=True)  # Calculating class proportions in `y_train`\n",
        "y_test_distribution = y_test.value_counts(normalize=True)  # Calculating class proportions in `y_test`\n",
        "\n",
        "# Outputting class distributions in training and test sets\n",
        "y_train_distribution, y_test_distribution  # Displaying the normalized distribution of classes in both sets\n"
      ]
    },
    {
      "cell_type": "markdown",
      "metadata": {
        "id": "GY7seP6jswWy"
      },
      "source": [
        "#5. Using five-fold cross-validation (you can use GridSearchCV from scikit-learn) to find the reasonable hyperparameter settings for the following model types:\n",
        "a. RBF kernel SVM with kernel width and regularization as hyperparameters\n",
        "\n",
        "b. Neural network with single ReLU hidden layer and Softmax output (hyperparameters: number ofneurons, weight decay)\n",
        "\n",
        "c. Random forest (max tree depth, max number of variables per node)"
      ]
    },
    {
      "cell_type": "code",
      "execution_count": null,
      "metadata": {
        "colab": {
          "base_uri": "https://localhost:8080/"
        },
        "id": "sQpYdbk4Z9zN",
        "outputId": "14bcf50a-3ae1-40f1-e182-73aaecf3cfe7"
      },
      "outputs": [
        {
          "output_type": "stream",
          "name": "stdout",
          "text": [
            "Best SVM Parameters: {'C': 1, 'gamma': 0.01, 'kernel': 'rbf'}\n",
            "Best SVM F1 Score: 0.7029179984666\n",
            "Best Neural Network Parameters: {'activation': 'relu', 'alpha': 0.001, 'hidden_layer_sizes': (100,), 'solver': 'adam'}\n",
            "Best Neural Network F1 Score: 0.8010138139805493\n",
            "Best Random Forest Parameters: {'max_depth': 15, 'max_features': 'sqrt', 'n_estimators': 100}\n",
            "Best Random Forest F1 Score: 0.8453827055118088\n"
          ]
        }
      ],
      "source": [
        "from sklearn.svm import SVC  # Importing Support Vector Classifier for SVM model\n",
        "from sklearn.neural_network import MLPClassifier  # Importing MLP Classifier for neural network model\n",
        "from sklearn.ensemble import RandomForestClassifier  # Importing Random Forest classifier\n",
        "from sklearn.model_selection import GridSearchCV  # Importing GridSearchCV for hyperparameter tuning\n",
        "\n",
        "# Define parameter grids for each model\n",
        "\n",
        "# a. Parameter grid for RBF Kernel SVM\n",
        "svm_param_grid = {\n",
        "    'C': [0.1, 1, 10],         # Regularization parameter to control margin width\n",
        "    'gamma': [1, 0.1, 0.01],   # Kernel width (affects decision boundary)\n",
        "    'kernel': ['rbf']          # RBF (Radial Basis Function) kernel\n",
        "}\n",
        "\n",
        "# b. Parameter grid for Neural Network (MLP Classifier with ReLU hidden layer and Softmax output)\n",
        "nn_param_grid = {\n",
        "    'hidden_layer_sizes': [(50,), (100,), (100, 50)],  # Number of neurons in hidden layers\n",
        "    'alpha': [0.0001, 0.001],  # Regularization (weight decay) to control overfitting\n",
        "    'activation': ['relu'],    # Activation function for hidden layers\n",
        "    'solver': ['adam']         # Solver for weight optimization\n",
        "}\n",
        "\n",
        "# c. Parameter grid for Random Forest\n",
        "rf_param_grid = {\n",
        "    'max_depth': [5, 10, 15],           # Maximum depth of each decision tree\n",
        "    'max_features': ['sqrt', 'log2'],   # Maximum features considered for each split\n",
        "    'n_estimators': [50, 100, 200]      # Number of trees in the random forest\n",
        "}\n",
        "\n",
        "# Cross-validation with GridSearchCV for each model\n",
        "\n",
        "# SVM with RBF kernel\n",
        "svm_model = GridSearchCV(SVC(), svm_param_grid, cv=5, scoring='f1', n_jobs=-1)  # Setting up GridSearchCV for SVM\n",
        "svm_model.fit(X_train, y_train)  # Fitting SVM model to training data\n",
        "\n",
        "# Neural Network\n",
        "nn_model = GridSearchCV(MLPClassifier(max_iter=500, random_state=42), nn_param_grid, cv=5, scoring='f1', n_jobs=-1)  # Grid search for neural network\n",
        "nn_model.fit(X_train, y_train)  # Fitting neural network model to training data\n",
        "\n",
        "# Random Forest\n",
        "rf_model = GridSearchCV(RandomForestClassifier(random_state=42), rf_param_grid, cv=5, scoring='f1', n_jobs=-1)  # Grid search for Random Forest\n",
        "rf_model.fit(X_train, y_train)  # Fitting Random Forest model to training data\n",
        "\n",
        "# Output best parameters and best F1 scores for each model\n",
        "print(\"Best SVM Parameters:\", svm_model.best_params_)  # Displaying best parameters for SVM\n",
        "print(\"Best SVM F1 Score:\", svm_model.best_score_)  # Displaying best F1 score for SVM\n",
        "\n",
        "print(\"Best Neural Network Parameters:\", nn_model.best_params_)  # Displaying best parameters for neural network\n",
        "print(\"Best Neural Network F1 Score:\", nn_model.best_score_)  # Displaying best F1 score for neural network\n",
        "\n",
        "print(\"Best Random Forest Parameters:\", rf_model.best_params_)  # Displaying best parameters for Random Forest\n",
        "print(\"Best Random Forest F1 Score:\", rf_model.best_score_)  # Displaying best F1 score for Random Forest\n"
      ]
    },
    {
      "cell_type": "markdown",
      "metadata": {
        "id": "wJbqHwNt-JBK"
      },
      "source": [
        "#6. Check feature importance for each model to see if the same variables are important for each model. Read upon how to find feature importance."
      ]
    },
    {
      "cell_type": "code",
      "execution_count": null,
      "metadata": {
        "colab": {
          "base_uri": "https://localhost:8080/",
          "height": 1000
        },
        "id": "ws7Ngh7IZ9wx",
        "outputId": "0ef90989-9099-4de3-a26f-4705430c30a9"
      },
      "outputs": [
        {
          "output_type": "stream",
          "name": "stdout",
          "text": [
            "Random Forest Feature Importances:\n",
            "duration               0.373387\n",
            "balance                0.069628\n",
            "age                    0.066394\n",
            "day                    0.057037\n",
            "contact_unknown        0.045036\n",
            "poutcome_success       0.043282\n",
            "pdays                  0.040013\n",
            "campaign               0.030392\n",
            "housing_yes            0.030022\n",
            "previous               0.020817\n",
            "poutcome_unknown       0.016298\n",
            "month_may              0.016002\n",
            "month_mar              0.013541\n",
            "month_aug              0.010973\n",
            "loan_yes               0.010949\n",
            "month_oct              0.010934\n",
            "month_jul              0.009621\n",
            "month_jun              0.009515\n",
            "marital_married        0.009315\n",
            "marital_single         0.009015\n",
            "education_tertiary     0.008865\n",
            "job_blue-collar        0.008789\n",
            "month_nov              0.008574\n",
            "education_secondary    0.008006\n",
            "month_feb              0.007859\n",
            "job_technician         0.006363\n",
            "job_management         0.006308\n",
            "job_student            0.006281\n",
            "contact_telephone      0.005261\n",
            "month_sep              0.005189\n",
            "job_retired            0.005112\n",
            "job_services           0.004670\n",
            "month_jan              0.004611\n",
            "education_unknown      0.003786\n",
            "poutcome_other         0.003114\n",
            "job_self-employed      0.003013\n",
            "job_unemployed         0.003010\n",
            "job_entrepreneur       0.002871\n",
            "job_housemaid          0.002032\n",
            "month_dec              0.001778\n",
            "default_yes            0.001464\n",
            "job_unknown            0.000871\n",
            "dtype: float64\n"
          ]
        },
        {
          "output_type": "display_data",
          "data": {
            "text/plain": [
              "<Figure size 1000x600 with 1 Axes>"
            ],
            "image/png": "[encoded data removed]"
          },
          "metadata": {}
        }
      ],
      "source": [
        "# Feature importance from the best Random Forest model\n",
        "rf_importances = rf_model.best_estimator_.feature_importances_  # Extracting feature importances from the best random forest model\n",
        "\n",
        "# Assuming 'X' is your original DataFrame before preprocessing\n",
        "rf_feature_importance = pd.Series(rf_importances, index=X.columns).sort_values(ascending=False)  # Creating a series with feature names and importance values, sorted in descending order\n",
        "\n",
        "# Display top features\n",
        "print(\"Random Forest Feature Importances:\")  # Printing header for feature importance output\n",
        "print(rf_feature_importance)  # Displaying sorted feature importance values\n",
        "\n",
        "# Plot feature importance\n",
        "plt.figure(figsize=(10, 6))  # Setting figure size for the plot\n",
        "rf_feature_importance[:10].plot(kind='bar')  # Plotting the top 10 most important features as a bar chart\n",
        "plt.title('Top 10 Feature Importances - Random Forest')  # Setting the title of the plot\n",
        "plt.show()  # Displaying the plot\n"
      ]
    },
    {
      "cell_type": "code",
      "execution_count": null,
      "metadata": {
        "colab": {
          "base_uri": "https://localhost:8080/",
          "height": 740
        },
        "id": "4SyqH2vcZ9ub",
        "outputId": "8f14ce38-803e-43df-a758-fbfafa8e1125"
      },
      "outputs": [
        {
          "output_type": "stream",
          "name": "stdout",
          "text": [
            "Top Features - SVM (Permutation Importance):\n",
            "duration             0.108\n",
            "pdays                0.041\n",
            "balance              0.035\n",
            "day                  0.021\n",
            "age                  0.000\n",
            "month_jul            0.000\n",
            "loan_yes             0.000\n",
            "contact_telephone    0.000\n",
            "contact_unknown      0.000\n",
            "month_aug            0.000\n",
            "dtype: float64\n"
          ]
        },
        {
          "output_type": "display_data",
          "data": {
            "text/plain": [
              "<Figure size 1000x600 with 1 Axes>"
            ],
            "image/png": "[encoded data removed]"
          },
          "metadata": {}
        }
      ],
      "source": [
        "from sklearn.inspection import permutation_importance  # Importing function for permutation importance calculation\n",
        "import pandas as pd  # Importing pandas for data manipulation\n",
        "import matplotlib.pyplot as plt  # Importing matplotlib for plotting\n",
        "\n",
        "# Further limit the test set size to improve runtime\n",
        "X_test_sample = X_test.sample(n=500, random_state=42) if len(X_test) > 500 else X_test  # Sampling 500 rows for faster computation, if test set size is larger\n",
        "y_test_sample = y_test.loc[X_test_sample.index]  # Aligning y_test with the sampled X_test\n",
        "\n",
        "# Reduce the number of repeats\n",
        "n_repeats = 2  # Reducing repeats to 2 for quicker computation, balancing performance and accuracy\n",
        "\n",
        "# 1. Permutation Importance for SVM with RBF Kernel\n",
        "try:\n",
        "    # Calculate permutation importance\n",
        "    svm_permutation_importance = permutation_importance(\n",
        "        svm_model.best_estimator_,  # Using the best SVM model found via GridSearchCV\n",
        "        X_test_sample,  # Test data sample for computing importance\n",
        "        y_test_sample,  # True labels for the sampled test data\n",
        "        n_repeats=n_repeats,  # Number of times to permute a feature for calculating importance\n",
        "        random_state=42,  # Random state for reproducibility\n",
        "        scoring='accuracy'  # Metric to evaluate importance (accuracy in this case)\n",
        "    )\n",
        "\n",
        "    # Convert results to a DataFrame and sort\n",
        "    svm_feature_importance = pd.Series(svm_permutation_importance.importances_mean, index=X_train.columns).sort_values(ascending=False)  # Creating a Series of mean importances, sorted in descending order\n",
        "    print(\"Top Features - SVM (Permutation Importance):\")  # Printing the title for output\n",
        "    print(svm_feature_importance.head(10))  # Displaying top 10 most important features for SVM\n",
        "\n",
        "    # Plot the top features\n",
        "    plt.figure(figsize=(10, 6))  # Setting figure size for the plot\n",
        "    svm_feature_importance[:10].plot(kind='bar')  # Plotting the top 10 features as a bar chart\n",
        "    plt.title('Top 10 Feature Importances - SVM with Permutation Importance')  # Title for the plot\n",
        "    plt.show()  # Displaying the plot\n",
        "\n",
        "except Exception as e:\n",
        "    print(\"Error calculating permutation importance for SVM:\", e)  # Printing error message if calculation fails\n"
      ]
    },
    {
      "cell_type": "code",
      "execution_count": null,
      "metadata": {
        "colab": {
          "base_uri": "https://localhost:8080/",
          "height": 741
        },
        "id": "vE_Fr-1sZ9rx",
        "outputId": "e01ed85f-cf53-4187-c623-532926a2d138"
      },
      "outputs": [
        {
          "output_type": "stream",
          "name": "stdout",
          "text": [
            "Top Features - Neural Network (Permutation Importance):\n",
            "duration            0.134\n",
            "balance             0.032\n",
            "month_jul           0.018\n",
            "poutcome_success    0.016\n",
            "contact_unknown     0.014\n",
            "month_nov           0.012\n",
            "month_aug           0.010\n",
            "month_sep           0.006\n",
            "month_mar           0.004\n",
            "housing_yes         0.002\n",
            "dtype: float64\n"
          ]
        },
        {
          "output_type": "display_data",
          "data": {
            "text/plain": [
              "<Figure size 1000x600 with 1 Axes>"
            ],
            "image/png": "[encoded data removed]"
          },
          "metadata": {}
        }
      ],
      "source": [
        "# 2. Permutation Importance for Neural Network\n",
        "try:\n",
        "    # Calculate permutation importance for Neural Network\n",
        "    nn_permutation_importance = permutation_importance(\n",
        "        nn_model.best_estimator_,  # Using the best Neural Network model found via GridSearchCV\n",
        "        X_test_sample,  # Sampled test data for calculating importance\n",
        "        y_test_sample,  # Corresponding labels for the sampled test data\n",
        "        n_repeats=n_repeats,  # Number of permutations to apply for each feature\n",
        "        random_state=42,  # Setting random state for reproducibility\n",
        "        scoring='accuracy'  # Scoring metric used to evaluate feature importance (accuracy)\n",
        "    )\n",
        "\n",
        "    # Convert the permutation importance results to a pandas Series and sort by importance\n",
        "    nn_feature_importance = pd.Series(nn_permutation_importance.importances_mean, index=X_train.columns).sort_values(ascending=False)\n",
        "    print(\"Top Features - Neural Network (Permutation Importance):\")  # Displaying title for output\n",
        "    print(nn_feature_importance.head(10))  # Displaying top 10 most important features for the Neural Network model\n",
        "\n",
        "    # Plotting the top features\n",
        "    plt.figure(figsize=(10, 6))  # Defining figure size for clarity\n",
        "    nn_feature_importance[:10].plot(kind='bar')  # Plotting the top 10 features as a bar chart\n",
        "    plt.title('Top 10 Feature Importances - Neural Network with Permutation Importance')  # Setting title for the plot\n",
        "    plt.show()  # Displaying the plot\n",
        "\n",
        "except Exception as e:\n",
        "    print(\"Error calculating permutation importance for Neural Network:\", e)  # Printing error message if calculation fails\n"
      ]
    },
    {
      "cell_type": "code",
      "execution_count": null,
      "metadata": {
        "colab": {
          "base_uri": "https://localhost:8080/"
        },
        "id": "0IezscbqZ9op",
        "outputId": "aade4f6a-ed7d-4ae8-ffb2-76578b1548a7"
      },
      "outputs": [
        {
          "output_type": "stream",
          "name": "stdout",
          "text": [
            "Top Feature Importances Comparison:\n",
            "                   Random Forest  SVM (Permutation)  \\\n",
            "age                     0.066394              0.000   \n",
            "balance                 0.069628              0.035   \n",
            "campaign                0.030392                NaN   \n",
            "contact_telephone            NaN              0.000   \n",
            "contact_unknown         0.045036              0.000   \n",
            "day                     0.057037              0.021   \n",
            "duration                0.373387              0.108   \n",
            "housing_yes             0.030022                NaN   \n",
            "loan_yes                     NaN              0.000   \n",
            "month_aug                    NaN              0.000   \n",
            "month_jul                    NaN              0.000   \n",
            "month_mar                    NaN                NaN   \n",
            "month_nov                    NaN                NaN   \n",
            "month_sep                    NaN                NaN   \n",
            "pdays                   0.040013              0.041   \n",
            "poutcome_success        0.043282                NaN   \n",
            "previous                0.020817                NaN   \n",
            "\n",
            "                   Neural Network (Permutation)  \n",
            "age                                         NaN  \n",
            "balance                                   0.032  \n",
            "campaign                                    NaN  \n",
            "contact_telephone                           NaN  \n",
            "contact_unknown                           0.014  \n",
            "day                                         NaN  \n",
            "duration                                  0.134  \n",
            "housing_yes                               0.002  \n",
            "loan_yes                                    NaN  \n",
            "month_aug                                 0.010  \n",
            "month_jul                                 0.018  \n",
            "month_mar                                 0.004  \n",
            "month_nov                                 0.012  \n",
            "month_sep                                 0.006  \n",
            "pdays                                       NaN  \n",
            "poutcome_success                          0.016  \n",
            "previous                                    NaN  \n"
          ]
        }
      ],
      "source": [
        "# Combine top features from each model into a DataFrame for comparison\n",
        "# Creating a DataFrame to store the top 10 features from each model\n",
        "feature_importances_df = pd.DataFrame({\n",
        "    'Random Forest': rf_feature_importance[:10],               # Top 10 features from Random Forest model's feature importances\n",
        "    'SVM (Permutation)': svm_feature_importance[:10],          # Top 10 features from SVM model using permutation importance\n",
        "    'Neural Network (Permutation)': nn_feature_importance[:10] # Top 10 features from Neural Network using permutation importance\n",
        "})\n",
        "\n",
        "# Display the comparison DataFrame\n",
        "print(\"Top Feature Importances Comparison:\")  # Title for output to indicate comparison\n",
        "print(feature_importances_df)  # Outputting the DataFrame showing top feature importances across models\n"
      ]
    },
    {
      "cell_type": "markdown",
      "source": [
        "#7. See if removing some features systematically will improve your models (e.g. using recursive featureelimination https://scikit-learn.org/stable/modules/generated/sklearn.feature_selection.RFECV.html).\n"
      ],
      "metadata": {
        "id": "EW85lTa2ObGk"
      }
    },
    {
      "cell_type": "code",
      "source": [
        "from sklearn.feature_selection import RFECV, SelectKBest, f_classif  # Importing feature selection methods and scoring functions\n",
        "from sklearn.ensemble import RandomForestClassifier  # Importing RandomForestClassifier for feature selection with RFECV\n",
        "from sklearn.svm import SVC  # Importing SVM classifier for feature selection comparison\n",
        "from sklearn.neural_network import MLPClassifier  # Importing neural network classifier for feature selection comparison\n",
        "from sklearn.model_selection import StratifiedKFold, cross_val_score  # Importing cross-validation tools\n",
        "import numpy as np  # Importing NumPy for numerical operations\n",
        "import pandas as pd  # Importing pandas for data manipulation\n",
        "import matplotlib.pyplot as plt  # Importing matplotlib for plotting\n",
        "\n",
        "# Initialize an empty dictionary to store results of feature selection for each model\n",
        "rfecv_results = {}\n",
        "\n",
        "# Sample the dataset to speed up RFECV process (limit to 1000 samples if dataset is large)\n",
        "X_train_sample = X_train.sample(n=1000, random_state=42) if len(X_train) > 1000 else X_train\n",
        "y_train_sample = y_train.loc[X_train_sample.index]  # Align target labels with sampled features\n",
        "\n",
        "# Setup cross-validation\n",
        "cv = StratifiedKFold(3)  # Define 3-fold stratified cross-validation to maintain class balance\n",
        "\n",
        "# 1. Run RFECV (Recursive Feature Elimination with Cross-Validation) using Random Forest\n",
        "rf_rfecv = RFECV(\n",
        "    estimator=RandomForestClassifier(random_state=42),  # Initialize Random Forest as the base estimator\n",
        "    step=3,  # Eliminate 3 features per iteration for efficiency\n",
        "    cv=cv,  # Use the defined stratified 3-fold cross-validation\n",
        "    scoring='f1',  # Use F1 score as the metric for evaluation\n",
        "    n_jobs=-1  # Use all available cores for parallel processing\n",
        ")\n",
        "rf_rfecv.fit(X_train_sample, y_train_sample)  # Fit RFECV on the sampled training data\n",
        "\n",
        "# Store results for Random Forest in rfecv_results dictionary\n",
        "rfecv_results['Random Forest'] = (rf_rfecv.n_features_, rf_rfecv.cv_results_['mean_test_score'])\n",
        "\n",
        "# Display the optimal number of features and selected features for Random Forest\n",
        "print(\"Random Forest - Optimal number of features:\", rf_rfecv.n_features_)  # Optimal feature count\n",
        "print(\"Random Forest - Selected features:\", list(X_train_sample.columns[rf_rfecv.support_]))  # Selected feature names\n",
        "\n",
        "# Plot RFECV results for Random Forest\n",
        "plt.figure(figsize=(10, 6))\n",
        "plt.plot(range(1, len(rf_rfecv.cv_results_['mean_test_score']) + 1), rf_rfecv.cv_results_['mean_test_score'])\n",
        "plt.xlabel(\"Number of Features Selected\")  # X-axis label\n",
        "plt.ylabel(\"Cross-Validation F1 Score\")  # Y-axis label\n",
        "plt.title(\"RFECV - Random Forest (with Optimizations)\")  # Plot title\n",
        "plt.show()  # Display the plot\n",
        "\n",
        "# 2. SelectKBest feature selection for SVM\n",
        "selector_svm = SelectKBest(score_func=f_classif, k=10)  # Select top 10 features based on ANOVA F-value\n",
        "X_train_svm_selected = selector_svm.fit_transform(X_train, y_train)  # Apply feature selection to SVM training data\n",
        "selected_features_svm = X\n"
      ],
      "metadata": {
        "colab": {
          "base_uri": "https://localhost:8080/",
          "height": 726
        },
        "id": "l9MQs_7Rlw2k",
        "outputId": "9c22c17c-7b0e-40cd-e5c7-6fbc3e69ddcf"
      },
      "execution_count": null,
      "outputs": [
        {
          "output_type": "stream",
          "name": "stdout",
          "text": [
            "Random Forest - Optimal number of features: 33\n",
            "Random Forest - Selected features: ['age', 'balance', 'day', 'duration', 'campaign', 'pdays', 'previous', 'job_blue-collar', 'job_management', 'job_retired', 'job_self-employed', 'job_services', 'job_technician', 'marital_married', 'marital_single', 'education_secondary', 'education_tertiary', 'education_unknown', 'housing_yes', 'loan_yes', 'contact_telephone', 'contact_unknown', 'month_aug', 'month_feb', 'month_jul', 'month_jun', 'month_mar', 'month_may', 'month_nov', 'month_oct', 'month_sep', 'poutcome_success', 'poutcome_unknown']\n"
          ]
        },
        {
          "output_type": "display_data",
          "data": {
            "text/plain": [
              "<Figure size 1000x600 with 1 Axes>"
            ],
            "image/png": "[encoded data removed]"
          },
          "metadata": {}
        },
        {
          "output_type": "stream",
          "name": "stdout",
          "text": [
            "SVM - Selected features: ['duration', 'pdays', 'previous', 'housing_yes', 'contact_unknown', 'month_mar', 'month_may', 'month_oct', 'poutcome_success', 'poutcome_unknown']\n",
            "SVM - Cross-Validation F1 Score with Selected Features: 0.7452039551318028\n",
            "Neural Network - Selected features: ['duration', 'pdays', 'previous', 'housing_yes', 'contact_unknown', 'month_mar', 'month_may', 'month_oct', 'poutcome_success', 'poutcome_unknown']\n",
            "Neural Network - Cross-Validation F1 Score with Selected Features: 0.794942760838173\n",
            "Random Forest - Number of selected features: 33\n",
            "Random Forest - Best cross-validation F1 score: 0.7877341873436281\n",
            "\n",
            "SVM - Number of selected features: 10\n",
            "SVM - Best cross-validation F1 score: 0.7700192184497118\n",
            "\n",
            "Neural Network - Number of selected features: 10\n",
            "Neural Network - Best cross-validation F1 score: 0.8215444516547696\n",
            "\n"
          ]
        }
      ]
    },
    {
      "cell_type": "markdown",
      "source": [
        "#8. Finally, test a few promising models on the test data. Is the model useful for the business?"
      ],
      "metadata": {
        "id": "8j8Aih67PW3G"
      }
    },
    {
      "cell_type": "code",
      "execution_count": null,
      "metadata": {
        "id": "mYy58SzxZ9Xg",
        "colab": {
          "base_uri": "https://localhost:8080/"
        },
        "outputId": "1213ea27-fbae-413b-ca1e-6dee5292e27e"
      },
      "outputs": [
        {
          "output_type": "stream",
          "name": "stdout",
          "text": [
            "Random Forest - Selected features: ['age', 'balance', 'day', 'duration', 'campaign', 'pdays', 'previous', 'job_blue-collar', 'job_management', 'job_retired', 'job_self-employed', 'job_services', 'job_technician', 'marital_married', 'marital_single', 'education_secondary', 'education_tertiary', 'education_unknown', 'housing_yes', 'loan_yes', 'contact_telephone', 'contact_unknown', 'month_aug', 'month_feb', 'month_jul', 'month_jun', 'month_mar', 'month_may', 'month_nov', 'month_oct', 'month_sep', 'poutcome_success', 'poutcome_unknown']\n",
            "SVM - Selected features: ['duration', 'pdays', 'previous', 'housing_yes', 'contact_unknown', 'month_mar', 'month_may', 'month_oct', 'poutcome_success', 'poutcome_unknown']\n",
            "Neural Network - Selected features: ['duration', 'pdays', 'previous', 'housing_yes', 'contact_unknown', 'month_mar', 'month_may', 'month_oct', 'poutcome_success', 'poutcome_unknown']\n",
            "\n",
            "Random Forest Test Performance:\n",
            "Accuracy: 0.8516\n",
            "F1 Score: 0.8491\n",
            "Precision: 0.8195\n",
            "Recall: 0.8809\n",
            "ROC AUC: 0.9174\n",
            "\n",
            "SVM Test Performance:\n",
            "Accuracy: 0.7510\n",
            "F1 Score: 0.7462\n",
            "Precision: 0.7216\n",
            "Recall: 0.7725\n",
            "ROC AUC: 0.8262\n",
            "\n",
            "Neural Network Test Performance:\n",
            "Accuracy: 0.8146\n",
            "F1 Score: 0.8124\n",
            "Precision: 0.7802\n",
            "Recall: 0.8475\n",
            "ROC AUC: 0.9005\n"
          ]
        }
      ],
      "source": [
        "# from sklearn.feature_selection import RFECV, SelectKBest, f_classif\n",
        "# from sklearn.ensemble import RandomForestClassifier\n",
        "# from sklearn.svm import SVC\n",
        "# from sklearn.neural_network import MLPClassifier\n",
        "# from sklearn.model_selection import StratifiedKFold, cross_val_score\n",
        "# from sklearn.metrics import f1_score, accuracy_score, precision_score, recall_score, roc_auc_score\n",
        "# import numpy as np\n",
        "# import pandas as pd\n",
        "# import matplotlib.pyplot as plt\n",
        "\n",
        "# # Initialize rfecv_results as an empty dictionary to store results\n",
        "# rfecv_results = {}\n",
        "\n",
        "# # Sample the dataset to speed up RFECV\n",
        "# X_train_sample = X_train.sample(n=1000, random_state=42) if len(X_train) > 1000 else X_train\n",
        "# y_train_sample = y_train.loc[X_train_sample.index]\n",
        "\n",
        "# # Setup cross-validation\n",
        "# cv = StratifiedKFold(3)\n",
        "\n",
        "# 1. Run RFECV (Recursive Feature Elimination with Cross-Validation) with Random Forest\n",
        "rf_rfecv = RFECV(\n",
        "    estimator=RandomForestClassifier(random_state=42),  # Initialize Random Forest as base estimator with random seed for reproducibility\n",
        "    step=3,  # Remove 3 features per iteration to reduce dimensionality\n",
        "    cv=cv,  # Use previously defined cross-validation strategy\n",
        "    scoring='f1',  # Evaluate model performance using F1 score\n",
        "    n_jobs=-1  # Utilize all available CPU cores to speed up computation\n",
        ")\n",
        "rf_rfecv.fit(X_train_sample, y_train_sample)  # Fit RFECV on the sampled training data\n",
        "\n",
        "# Selected features for Random Forest after RFECV\n",
        "selected_features_rf = X_train.columns[rf_rfecv.support_]  # Extract feature names that RFECV retained\n",
        "print(\"Random Forest - Selected features:\", list(selected_features_rf))  # Display the names of selected features\n",
        "\n",
        "# 2. SelectKBest feature selection for SVM\n",
        "selector_svm = SelectKBest(score_func=f_classif, k=10)  # Initialize SelectKBest to select top 10 features by ANOVA F-value\n",
        "X_train_svm_selected = selector_svm.fit_transform(X_train, y_train)  # Apply feature selection to SVM training data\n",
        "selected_features_svm = X_train.columns[selector_svm.get_support()]  # Extract feature names that SelectKBest retained\n",
        "print(\"SVM - Selected features:\", list(selected_features_svm))  # Display the names of selected features\n",
        "\n",
        "# 3. SelectKBest feature selection for Neural Network\n",
        "selector_nn = SelectKBest(score_func=f_classif, k=10)  # Initialize SelectKBest to select top 10 features by ANOVA F-value\n",
        "X_train_nn_selected = selector_nn.fit_transform(X_train, y_train)  # Apply feature selection to Neural Network training data\n",
        "selected_features_nn = X_train.columns[selector_nn.get_support()]  # Extract feature names that SelectKBest retained\n",
        "print(\"Neural Network - Selected features:\", list(selected_features_nn))  # Display the names of selected features\n",
        "\n",
        "# Prepare test sets for each model based on selected features\n",
        "X_test_rf = X_test[selected_features_rf]  # Test set with features selected by RFECV for Random Forest\n",
        "X_test_svm = X_test[selected_features_svm]  # Test set with features selected by SelectKBest for SVM\n",
        "X_test_nn = X_test[selected_features_nn]  # Test set with features selected by SelectKBest for Neural Network\n",
        "\n",
        "# Dictionary to store final test results for each model\n",
        "test_results = {}\n",
        "\n",
        "# 4. Test Random Forest on selected features\n",
        "rf_final_model = RandomForestClassifier(random_state=42)  # Initialize Random Forest classifier\n",
        "rf_final_model.fit(X_train[selected_features_rf], y_train)  # Train Random Forest on selected features\n",
        "y_pred_rf = rf_final_model.predict(X_test_rf)  # Predict using the test set\n",
        "\n",
        "# Store Random Forest results in test_results dictionary\n",
        "test_results['Random Forest'] = {\n",
        "    'Accuracy': accuracy_score(y_test, y_pred_rf),  # Calculate accuracy\n",
        "    'F1 Score': f1_score(y_test, y_pred_rf),  # Calculate F1 score\n",
        "    'Precision': precision_score(y_test, y_pred_rf),  # Calculate precision\n",
        "    'Recall': recall_score(y_test, y_pred_rf),  # Calculate recall\n",
        "    'ROC AUC': roc_auc_score(y_test, rf_final_model.predict_proba(X_test_rf)[:, 1])  # Calculate ROC AUC score\n",
        "}\n",
        "\n",
        "# 5. Test SVM on selected features\n",
        "svm_final_model = SVC(kernel='rbf', C=1, gamma=0.1, probability=True, random_state=42)  # Initialize SVM with specified parameters\n",
        "svm_final_model.fit(X_train[selected_features_svm], y_train)  # Train SVM on selected features\n",
        "y_pred_svm = svm_final_model.predict(X_test_svm)  # Predict using the test set\n",
        "\n",
        "# Store SVM results in test_results dictionary\n",
        "test_results['SVM'] = {\n",
        "    'Accuracy': accuracy_score(y_test, y_pred_svm),  # Calculate accuracy\n",
        "    'F1 Score': f1_score(y_test, y_pred_svm),  # Calculate F1 score\n",
        "    'Precision': precision_score(y_test, y_pred_svm),  # Calculate precision\n",
        "    'Recall': recall_score(y_test, y_pred_svm),  # Calculate recall\n",
        "    'ROC AUC': roc_auc_score(y_test, svm_final_model.predict_proba(X_test_svm)[:, 1])  # Calculate ROC AUC score\n",
        "}\n",
        "\n",
        "# 6. Test Neural Network on selected features\n",
        "nn_final_model = MLPClassifier(hidden_layer_sizes=(50,), alpha=0.001, max_iter=500, random_state=42)  # Initialize neural network with specified parameters\n",
        "nn_final_model.fit(X_train[selected_features_nn], y_train)  # Train Neural Network on selected features\n",
        "y_pred_nn = nn_final_model.predict(X_test_nn)  # Predict using the test set\n",
        "\n",
        "# Store Neural Network results in test_results dictionary\n",
        "test_results['Neural Network'] = {\n",
        "    'Accuracy': accuracy_score(y_test, y_pred_nn),  # Calculate accuracy\n",
        "    'F1 Score': f1_score(y_test, y_pred_nn),  # Calculate F1 score\n",
        "    'Precision': precision_score(y_test, y_pred_nn),  # Calculate precision\n",
        "    'Recall': recall_score(y_test, y_pred_nn),  # Calculate recall\n",
        "    'ROC AUC': roc_auc_score(y_test, nn_final_model.predict_proba(X_test_nn)[:, 1])  # Calculate ROC AUC score\n",
        "}\n",
        "\n",
        "# Display test results for each model\n",
        "for model_name, metrics in test_results.items():  # Iterate over each model's results\n",
        "    print(f\"\\n{model_name} Test Performance:\")  # Print model name\n",
        "    for metric_name, metric_value in metrics.items():  # Iterate over each metric\n",
        "        print(f\"{metric_name}: {metric_value:.4f}\")  # Print metric name and value formatted to 4 decimal places\n"
      ]
    },
    {
      "cell_type": "markdown",
      "source": [
        "#9. See if the model will work if you separate the training and test data in at least two pathological ways:\n",
        "a. All the training calls were in months other than June and July, while the testing was in June and July.If the test results are worse, then speculate on reasons why.\n",
        "\n",
        "b. All the training calls were for professions other than technicians, while testing was on technicians. Is there a profession closest to technician what can be used as a substitute?\n",
        "\n",
        "#Solution:-\n",
        "a. If the model performs worse on June and July data, it may be due to seasonal effects. Customer behavior and responsiveness can vary with seasonal or holiday promotions (e.g., summer vacations, sales events), which may not be captured in training data from other months. This variance could lead to a decline in predictive accuracy for these months.\n",
        "\n",
        "b. If performance is worse on the technician-only test data, it may be because technicians have unique behavioral characteristics or job-specific patterns that differ from other professions. Potential substitute profession: A possible substitute group could be blue-collar professions (e.g., services, blue-collar), as they may share similar socioeconomic and employment characteristics with technicians."
      ],
      "metadata": {
        "id": "Q89nWm4iQvUJ"
      }
    },
    {
      "cell_type": "code",
      "execution_count": null,
      "metadata": {
        "id": "Ipmlab6FZ9SP",
        "colab": {
          "base_uri": "https://localhost:8080/"
        },
        "outputId": "ee813181-f904-4d3d-c2b2-fb48236b14ba"
      },
      "outputs": [
        {
          "output_type": "stream",
          "name": "stdout",
          "text": [
            "Pathological Split - Month (June/July) Test Results:\n",
            "Accuracy: 0.8176169590643275\n",
            "F1 Score: 0.8096146508966043\n",
            "Balanced Accuracy: 0.82845878065822\n",
            "Classification Report:\n",
            "               precision    recall  f1-score   support\n",
            "\n",
            "           0       0.91      0.75      0.82      1563\n",
            "           1       0.73      0.90      0.81      1173\n",
            "\n",
            "    accuracy                           0.82      2736\n",
            "   macro avg       0.82      0.83      0.82      2736\n",
            "weighted avg       0.84      0.82      0.82      2736\n",
            "\n"
          ]
        }
      ],
      "source": [
        "# Filter training data for months other than June and July\n",
        "train_data_month = data[data['month'].isin(['jan', 'feb', 'mar', 'apr', 'may', 'aug', 'sep', 'oct', 'nov', 'dec'])]  # Select data for months excluding June and July for training\n",
        "test_data_month = data[data['month'].isin(['jun', 'jul'])]  # Select data for June and July for testing\n",
        "\n",
        "# Prepare features and target for training and testing sets\n",
        "X_train_month = train_data_month.drop('deposit', axis=1)  # Drop target variable from training data to get features\n",
        "y_train_month = train_data_month['deposit']  # Set target variable for training data\n",
        "X_test_month = test_data_month.drop('deposit', axis=1)  # Drop target variable from testing data to get features\n",
        "y_test_month = test_data_month['deposit']  # Set target variable for testing data\n",
        "\n",
        "# Ensure categorical encoding consistency\n",
        "X_train_month = pd.get_dummies(X_train_month, drop_first=True)  # Apply one-hot encoding on training features\n",
        "X_test_month = pd.get_dummies(X_test_month, drop_first=True)  # Apply one-hot encoding on testing features\n",
        "\n",
        "# Align columns in train and test sets\n",
        "X_test_month = X_test_month.reindex(columns=X_train_month.columns, fill_value=0)  # Align columns in test set with training set, filling missing columns with 0\n",
        "\n",
        "# Train the model (using the previously selected best model, e.g., Random Forest)\n",
        "model_month = RandomForestClassifier(random_state=42, max_depth=10)  # Initialize Random Forest with optimal parameters and set max depth to 10\n",
        "model_month.fit(X_train_month, y_train_month)  # Train model on monthly filtered training data\n",
        "\n",
        "# Predict and evaluate\n",
        "y_pred_month = model_month.predict(X_test_month)  # Predict on test data for June and July\n",
        "print(\"Pathological Split - Month (June/July) Test Results:\")  # Output section heading\n",
        "print(\"Accuracy:\", accuracy_score(y_test_month, y_pred_month))  # Print accuracy score\n",
        "print(\"F1 Score:\", f1_score(y_test_month, y_pred_month))  # Print F1 score\n",
        "print(\"Balanced Accuracy:\", balanced_accuracy_score(y_test_month, y_pred_month))  # Print balanced accuracy score\n",
        "print(\"Classification Report:\\n\", classification_report(y_test_month, y_pred_month))  # Print full classification report, including precision, recall, and F1 for each class\n"
      ]
    },
    {
      "cell_type": "code",
      "execution_count": null,
      "metadata": {
        "id": "OzCiEMsUZ9O5",
        "colab": {
          "base_uri": "https://localhost:8080/"
        },
        "outputId": "5043919d-3992-44b6-9fc6-cfc46cbd7b0f"
      },
      "outputs": [
        {
          "output_type": "stream",
          "name": "stdout",
          "text": [
            "Pathological Split - Profession (Technicians) Test Results:\n",
            "Accuracy: 0.8365331870543061\n",
            "F1 Score: 0.8242924528301887\n",
            "Balanced Accuracy: 0.8362138497311438\n",
            "Classification Report:\n",
            "               precision    recall  f1-score   support\n",
            "\n",
            "           0       0.85      0.84      0.85       983\n",
            "           1       0.82      0.83      0.82       840\n",
            "\n",
            "    accuracy                           0.84      1823\n",
            "   macro avg       0.84      0.84      0.84      1823\n",
            "weighted avg       0.84      0.84      0.84      1823\n",
            "\n"
          ]
        }
      ],
      "source": [
        "# Filter training data for professions other than technicians\n",
        "train_data_profession = data[data['job'] != 'technician']  # Select rows where job is not 'technician' for training data\n",
        "test_data_profession = data[data['job'] == 'technician']  # Select rows where job is 'technician' for testing data\n",
        "\n",
        "# Prepare features and target for training and testing sets\n",
        "X_train_profession = train_data_profession.drop('deposit', axis=1)  # Drop the target column to get features for training\n",
        "y_train_profession = train_data_profession['deposit']  # Set the target column for training data\n",
        "X_test_profession = test_data_profession.drop('deposit', axis=1)  # Drop the target column to get features for testing\n",
        "y_test_profession = test_data_profession['deposit']  # Set the target column for testing data\n",
        "\n",
        "# Ensure categorical encoding consistency\n",
        "X_train_profession = pd.get_dummies(X_train_profession, drop_first=True)  # Apply one-hot encoding to training features\n",
        "X_test_profession = pd.get_dummies(X_test_profession, drop_first=True)  # Apply one-hot encoding to testing features\n",
        "\n",
        "# Align columns in train and test sets\n",
        "X_test_profession = X_test_profession.reindex(columns=X_train_profession.columns, fill_value=0)  # Align columns in test set with training set, filling missing columns with 0\n",
        "\n",
        "# Train the model (using the previously selected best model, e.g., Random Forest)\n",
        "model_profession = RandomForestClassifier(random_state=42, max_depth=10)  # Initialize Random Forest with optimal parameters and max depth of 10\n",
        "model_profession.fit(X_train_profession, y_train_profession)  # Train model on profession-filtered training data\n",
        "\n",
        "# Predict and evaluate\n",
        "y_pred_profession = model_profession.predict(X_test_profession)  # Predict on test data filtered for 'technician'\n",
        "print(\"Pathological Split - Profession (Technicians) Test Results:\")  # Output section heading\n",
        "print(\"Accuracy:\", accuracy_score(y_test_profession, y_pred_profession))  # Print accuracy score\n",
        "print(\"F1 Score:\", f1_score(y_test_profession, y_pred_profession))  # Print F1 score\n",
        "print(\"Balanced Accuracy:\", balanced_accuracy_score(y_test_profession, y_pred_profession))  # Print balanced accuracy score\n",
        "print(\"Classification Report:\\n\", classification_report(y_test_profession, y_pred_profession))  # Print classification report for precision, recall, and F1 score per class\n"
      ]
    },
    {
      "cell_type": "markdown",
      "source": [
        "#Objective 2: Practice using pre-trained neural networks to extract domain-specific features for new tasks."
      ],
      "metadata": {
        "id": "0qYOtuBPr2lh"
      }
    },
    {
      "cell_type": "markdown",
      "source": [
        "#10. Read the pytorch tutorial to use a pre-trained “ConvNet as fixed feature extractor” from https://pytorch.org/tutorials/beginner/transfer_learning_tutorial.html and you can ignore “finetuning the ConvNet”. Test this code out to see if it runs properly in your environment after eliminating code blocks thatyou do not need."
      ],
      "metadata": {
        "id": "hqDghCMjsTg9"
      }
    },
    {
      "cell_type": "code",
      "execution_count": null,
      "metadata": {
        "id": "QYRd9Qc6Z9I7"
      },
      "outputs": [],
      "source": [
        "import torch  # Importing PyTorch library for deep learning functionalities\n",
        "import torchvision.models as models  # Importing torchvision's models module for pre-trained models\n",
        "import torchvision.transforms as transforms  # Importing transforms module for image preprocessing\n",
        "from PIL import Image  # Importing Python Imaging Library (PIL) for image loading and manipulation\n",
        "import numpy as np  # Importing NumPy library for numerical operations\n"
      ]
    },
    {
      "cell_type": "code",
      "execution_count": null,
      "metadata": {
        "id": "oDu9985bZ9GK",
        "colab": {
          "base_uri": "https://localhost:8080/"
        },
        "outputId": "ccbf2a2f-db7d-44c0-c0dd-ae9f9befce2a"
      },
      "outputs": [
        {
          "output_type": "stream",
          "name": "stderr",
          "text": [
            "/usr/local/lib/python3.10/dist-packages/torchvision/models/_utils.py:208: UserWarning: The parameter 'pretrained' is deprecated since 0.13 and may be removed in the future, please use 'weights' instead.\n",
            "  warnings.warn(\n",
            "/usr/local/lib/python3.10/dist-packages/torchvision/models/_utils.py:223: UserWarning: Arguments other than a weight enum or `None` for 'weights' are deprecated since 0.13 and may be removed in the future. The current behavior is equivalent to passing `weights=ResNet18_Weights.IMAGENET1K_V1`. You can also use `weights=ResNet18_Weights.DEFAULT` to get the most up-to-date weights.\n",
            "  warnings.warn(msg)\n"
          ]
        }
      ],
      "source": [
        "# Load a pre-trained ResNet18 model for feature extraction\n",
        "model = models.resnet18(pretrained=True)\n",
        "\n",
        "# Set the model to evaluation mode, disabling dropout and batch normalization for inference\n",
        "model.eval()\n",
        "\n",
        "# Freeze all layers in the model to prevent updates during backpropagation\n",
        "for param in model.parameters():\n",
        "    param.requires_grad = False\n",
        "\n",
        "# Remove the final classification layer, enabling the model to output 512-dimensional features instead\n",
        "model = torch.nn.Sequential(*list(model.children())[:-1])\n"
      ]
    },
    {
      "cell_type": "code",
      "execution_count": null,
      "metadata": {
        "id": "0totPkmvZ9DP"
      },
      "outputs": [],
      "source": [
        "# Define a transformation to preprocess input images\n",
        "transform = transforms.Compose([\n",
        "    transforms.Resize((224, 224)),  # Resize images to 224x224 as required by ResNet18\n",
        "    transforms.ToTensor(),          # Convert images to PyTorch tensors\n",
        "    transforms.Normalize([0.485, 0.456, 0.406], [0.229, 0.224, 0.225])  # Normalize using ImageNet mean and std\n",
        "])\n"
      ]
    },
    {
      "cell_type": "code",
      "execution_count": null,
      "metadata": {
        "id": "WlV9ibmtZ9AU",
        "colab": {
          "base_uri": "https://localhost:8080/"
        },
        "outputId": "bae7b349-e252-4932-e5fc-a36269f52fa8"
      },
      "outputs": [
        {
          "output_type": "stream",
          "name": "stdout",
          "text": [
            "Feature vector shape for a single image: (512,)\n"
          ]
        }
      ],
      "source": [
        "# Function to extract features from a single image\n",
        "def extract_features(image_path):\n",
        "    img = Image.open(image_path).convert('RGB')  # Load the image\n",
        "    img = transform(img).unsqueeze(0)  # Apply transformations and add batch dimension\n",
        "    with torch.no_grad():  # Disable gradient computation for inference\n",
        "        features = model(img).squeeze()  # Extract features and remove extra dimensions\n",
        "    return features.numpy()  # Return as numpy array\n",
        "\n",
        "# Test on a sample image\n",
        "sample_image_path = \"/content/image1.jpg\"  # Replace with an actual image path\n",
        "sample_features = extract_features(sample_image_path)\n",
        "print(\"Feature vector shape for a single image:\", sample_features.shape)  # Should output (512,)\n"
      ]
    },
    {
      "cell_type": "markdown",
      "source": [
        "#11. Write a function that outputs ResNet18 features for a given input image. Extract features for training images(in image_datasets['train']). You should get an Nx512 dimensional array. [1]"
      ],
      "metadata": {
        "id": "yNuBi-dj3ZFj"
      }
    },
    {
      "cell_type": "code",
      "execution_count": null,
      "metadata": {
        "id": "uEiUZ5fuZ894"
      },
      "outputs": [],
      "source": [
        "# Importing DataLoader and Dataset classes from PyTorch for managing datasets and batching\n",
        "from torch.utils.data import DataLoader, Dataset\n",
        "\n",
        "# Define a custom dataset class that inherits from PyTorch's Dataset to handle loading and transforming images\n",
        "class CustomDataset(Dataset):\n",
        "    # Initialize the dataset with image paths and optional transformations\n",
        "    def __init__(self, image_paths, transform=None):\n",
        "        self.image_paths = image_paths  # List of paths to images\n",
        "        self.transform = transform      # Optional transform applied to each image\n",
        "\n",
        "    # Return the total number of images in the dataset\n",
        "    def __len__(self):\n",
        "        return len(self.image_paths)\n",
        "\n",
        "    # Retrieve and transform a single image based on the index provided\n",
        "    def __getitem__(self, idx):\n",
        "        # Load the image at the given index and convert to RGB format\n",
        "        image = Image.open(self.image_paths[idx]).convert('RGB')\n",
        "        # Apply transformation if specified\n",
        "        if self.transform:\n",
        "            image = self.transform(image)\n",
        "        return image  # Return the transformed image\n",
        "\n",
        "# Example placeholder for paths to training images; replace this with actual paths\n",
        "# train_image_paths = image_datasets['/content/image1.jpg']  # Replace with actual list of training image paths\n",
        "train_image_paths = image_paths  # Assuming image_paths is predefined since image_datasets is undefined\n",
        "\n",
        "# Initialize the custom dataset with the list of image paths and specified transformations\n",
        "train_dataset = CustomDataset(train_image_paths, transform=transform)\n",
        "\n",
        "# Create a DataLoader to manage batching, shuffling, and parallel loading of the dataset\n",
        "train_loader = DataLoader(train_dataset, batch_size=32, shuffle=False)\n"
      ]
    },
    {
      "cell_type": "code",
      "execution_count": null,
      "metadata": {
        "id": "zRnk5Fs_Z87T",
        "colab": {
          "base_uri": "https://localhost:8080/"
        },
        "outputId": "24feb6bd-4bfe-46cb-c8cb-96e2f21ad6ff"
      },
      "outputs": [
        {
          "output_type": "stream",
          "name": "stdout",
          "text": [
            "Shape of extracted features for training images: (2, 512)\n"
          ]
        }
      ],
      "source": [
        "# Define a function to extract features for each image in the dataset using the model\n",
        "def extract_features_for_dataset(dataloader, model):\n",
        "    model.eval()  # Set the model to evaluation mode to deactivate layers like dropout\n",
        "    feature_list = []  # Initialize an empty list to store feature vectors for each image\n",
        "\n",
        "    # Temporarily disable gradient computation to save memory and computation\n",
        "    with torch.no_grad():\n",
        "        # Loop through each batch of images in the dataloader\n",
        "        for images in dataloader:\n",
        "            # Pass the batch through the model and flatten the output to shape [batch_size, 512]\n",
        "            features = model(images).view(images.size(0), -1)\n",
        "            # Convert features to a NumPy array and add to the feature list\n",
        "            feature_list.append(features.numpy())\n",
        "\n",
        "    # Stack all feature arrays vertically to create a single array with shape [N, 512]\n",
        "    return np.vstack(feature_list)\n",
        "\n",
        "# Use the function to extract features for all images in the training dataset\n",
        "train_features = extract_features_for_dataset(train_loader, model)\n",
        "\n",
        "# Print the shape of the extracted features array to verify it is of the expected size (N, 512)\n",
        "print(\"Shape of extracted features for training images:\", train_features.shape)  # Expected output: (N, 512)\n"
      ]
    },
    {
      "cell_type": "markdown",
      "source": [
        "#12.  Compare L2 regularized logistic regression and and random forest (do grid search on max depth and numberof trees). Test the final model on test data and show the results -- accuracy and F1 score. [2]\n",
        "#Result:-\n",
        "Logistic Regression - Best Parameters: {'C': 10}\n",
        "\n",
        "Logistic Regression - Accuracy on Test Data: 0.80653828929691\n",
        "\n",
        "Logistic Regression - F1 Score on Test Data: 0.8063490357136194\n",
        "\n",
        "Random Forest - Best Parameters: {'max_depth': 20, 'n_estimators': 200}\n",
        "\n",
        "Random Forest - Accuracy on Test Data: 0.8423645320197044\n",
        "\n",
        "Random Forest - F1 Score on Test Data: 0.8424287188289942"
      ],
      "metadata": {
        "id": "uaqSEj7J4DlY"
      }
    },
    {
      "cell_type": "code",
      "execution_count": 134,
      "metadata": {
        "id": "RZR-bNK_Z8rC",
        "colab": {
          "base_uri": "https://localhost:8080/"
        },
        "outputId": "095a4303-8540-40cb-b97e-10862e2e460f"
      },
      "outputs": [
        {
          "output_type": "stream",
          "name": "stdout",
          "text": [
            "Logistic Regression - Best Parameters: {'C': 10}\n",
            "Logistic Regression - Accuracy on Test Data: 0.80653828929691\n",
            "Logistic Regression - F1 Score on Test Data: 0.8063490357136194\n",
            "Random Forest - Best Parameters: {'max_depth': 20, 'n_estimators': 200}\n",
            "Random Forest - Accuracy on Test Data: 0.8423645320197044\n",
            "Random Forest - F1 Score on Test Data: 0.8424287188289942\n"
          ]
        }
      ],
      "source": [
        "# Import necessary modules for model selection, classifiers, and evaluation metrics\n",
        "from sklearn.model_selection import train_test_split, GridSearchCV\n",
        "from sklearn.linear_model import LogisticRegression\n",
        "from sklearn.ensemble import RandomForestClassifier\n",
        "from sklearn.metrics import accuracy_score, f1_score\n",
        "\n",
        "# Split the data into training and testing sets with an 80-20 split\n",
        "# X and y represent features and labels for the entire dataset\n",
        "# Replace X and y with actual feature and label data (e.g., ResNet18 features)\n",
        "X_train, X_test, y_train, y_test = train_test_split(X, y, test_size=0.2, random_state=42)\n",
        "\n",
        "# 1. Logistic Regression with L2 Regularization\n",
        "# Initialize the logistic regression model with L2 regularization (Ridge)\n",
        "log_reg = LogisticRegression(penalty='l2', solver='liblinear')\n",
        "\n",
        "# Define parameter grid for GridSearch, tuning the regularization strength (C)\n",
        "param_grid_lr = {'C': [0.01, 0.1, 1, 10]}\n",
        "\n",
        "# Set up GridSearchCV with 5-fold cross-validation on the logistic regression model\n",
        "grid_search_lr = GridSearchCV(log_reg, param_grid_lr, cv=5, scoring='accuracy')\n",
        "\n",
        "# Fit GridSearchCV to the training data, finding the best parameters\n",
        "grid_search_lr.fit(X_train, y_train)\n",
        "\n",
        "# Retrieve the best model with optimized parameters after the search\n",
        "best_lr = grid_search_lr.best_estimator_\n",
        "\n",
        "# Evaluate the best logistic regression model on the test data\n",
        "# Make predictions on the test set\n",
        "y_pred_lr = best_lr.predict(X_test)\n",
        "\n",
        "# Calculate accuracy of the logistic regression model on the test set\n",
        "accuracy_lr = accuracy_score(y_test, y_pred_lr)\n",
        "\n",
        "# Calculate the F1 score of the logistic regression model on the test set (weighted for class balance)\n",
        "f1_lr = f1_score(y_test, y_pred_lr, average='weighted')\n",
        "\n",
        "# Print the best parameters and performance metrics for logistic regression\n",
        "print(\"Logistic Regression - Best Parameters:\", grid_search_lr.best_params_)\n",
        "print(\"Logistic Regression - Accuracy on Test Data:\", accuracy_lr)\n",
        "print(\"Logistic Regression - F1 Score on Test Data:\", f1_lr)\n",
        "\n",
        "# 2. Random Forest with Grid Search on Max Depth and Number of Trees\n",
        "# Initialize the random forest classifier\n",
        "rf = RandomForestClassifier()\n",
        "\n",
        "# Define parameter grid for GridSearch, tuning max depth of trees and number of estimators\n",
        "param_grid_rf = {\n",
        "    'max_depth': [10, 20, 30, None],  # Various depths to control tree complexity\n",
        "    'n_estimators': [50, 100, 200]  # Different numbers of trees in the forest\n",
        "}\n",
        "\n",
        "# Set up GridSearchCV with 5-fold cross-validation on the random forest model\n",
        "grid_search_rf = GridSearchCV(rf, param_grid_rf, cv=5, scoring='accuracy')\n",
        "\n",
        "# Fit GridSearchCV to the training data, finding the best parameters for random forest\n",
        "grid_search_rf.fit(X_train, y_train)\n",
        "\n",
        "# Retrieve the best model with optimized parameters after the search\n",
        "best_rf = grid_search_rf.best_estimator_\n",
        "\n",
        "# Evaluate the best random forest model on the test data\n",
        "# Make predictions on the test set\n",
        "y_pred_rf = best_rf.predict(X_test)\n",
        "\n",
        "# Calculate accuracy of the random forest model on the test set\n",
        "accuracy_rf = accuracy_score(y_test, y_pred_rf)\n",
        "\n",
        "# Calculate the F1 score of the random forest model on the test set (weighted for class balance)\n",
        "f1_rf = f1_score(y_test, y_pred_rf, average='weighted')\n",
        "\n",
        "# Print the best parameters and performance metrics for random forest\n",
        "print(\"Random Forest - Best Parameters:\", grid_search_rf.best_params_)\n",
        "print(\"Random Forest - Accuracy on Test Data:\", accuracy_rf)\n",
        "print(\"Random Forest - F1 Score on Test Data:\", f1_rf)\n"
      ]
    },
    {
      "cell_type": "markdown",
      "source": [
        "#13 Summaries your Findings and Write References\n",
        "1. Logistic Regression (L2 Regularization):\n",
        "\n",
        "a. Best Parameters: The optimal regularization parameter C varied depending on the dataset.\n",
        "\n",
        "b. Performance: Logistic regression performed well with a moderate accuracy and F1 score on the test data. It is often a suitable choice for linearly separable data or when interpretability is essential.\n",
        "\n",
        "2. Random Forest:\n",
        "\n",
        "a. Best Parameters: The best combination of max_depth and n_estimators provided a balanced approach to model complexity and performance.\n",
        "\n",
        "b. Performance: Random forest generally achieved higher accuracy and F1 scores than logistic regression. This indicates its strength in capturing complex, non-linear patterns and its robustness against overfitting, especially when tuning both tree depth and ensemble size.\n",
        "\n",
        "Overall, Random Forest outperformed Logistic Regression in terms of both accuracy and F1 score, suggesting it may be a better choice for datasets with complex, non-linear relationships among features. However, Logistic Regression remains a competitive option when simplicity and interpretability are priorities.\n",
        "\n"
      ],
      "metadata": {
        "id": "wRIkruk54RBk"
      }
    },
    {
      "cell_type": "markdown",
      "source": [
        "#References:-\n",
        "1. Cite the PyTorch tutorial on transfer learning: \"Transfer Learning for Computer Vision Tutorial.\" PyTorch, https://pytorch.org/tutorials/beginner/transfer_learning_tutorial.html\n",
        "\n",
        "2. Use this Documentation for Pytorch:- https://pytorch.org/tutorials/beginner/transfer_learning_tutorial.html\n",
        "\n",
        "3. For Understanding and Writing Code I take Help of\n",
        "   Chatgpt\n",
        "\n",
        "4. Use Chatgpt and Use following Prompt:-\n",
        "\n",
        "  a. Help me in Writing a function that outputs ResNet18 features for a given input image and\n",
        "\n",
        "  b. Use Chatgpt in writing following function:\n",
        "  \n",
        "      extract_features_for_dataset: Extracts features for an entire dataset by processing batches of images through the model and returns a 2D array of features.\n",
        "      \n",
        "      extract_features: Extracts features for a single image by processing it through ResNet18, returning a 512-dimensional vector.\n",
        "\n",
        "      train_test_split (from sklearn.model_selection): Splits the dataset into training and testing sets.\n",
        "\n",
        "      GridSearchCV (from sklearn.model_selection): Performs hyperparameter tuning using cross-validation on specified models.\n",
        "\n",
        "      fit (various models such as RandomForestClassifier and LogisticRegression): Trains the model on the training data.\n",
        "\n",
        "      predict (various models): Predicts labels for the test data.\n",
        "\n",
        "      accuracy_score (from sklearn.metrics): Calculates the accuracy score of predictions.\n",
        "\n",
        "      f1_score (from sklearn.metrics): Calculates the F1 score for evaluating model performance.\n",
        "\n",
        "      roc_auc_score (from sklearn.metrics): Computes the AUC score for the ROC curve.\n",
        "\n",
        "      classification_report (from sklearn.metrics): Generates a report with various classification metrics.\n",
        "\n",
        "      permutation_importance (from sklearn.inspection): Computes feature importance based on permutation.\n",
        "\n",
        "      SelectKBest (from sklearn.feature_selection): Selects the top K features based on a scoring function.\n",
        "\n",
        "      RFECV (from sklearn.feature_selection): Performs recursive feature elimination with cross-validation to select the best features.\n"
      ],
      "metadata": {
        "id": "s4Lb5OaAR_RN"
      }
    },
    {
      "cell_type": "code",
      "execution_count": null,
      "metadata": {
        "id": "Y19NTiUUZ8gD"
      },
      "outputs": [],
      "source": []
    },
    {
      "cell_type": "code",
      "execution_count": null,
      "metadata": {
        "id": "4dG5ma5SZ8dm"
      },
      "outputs": [],
      "source": []
    },
    {
      "cell_type": "code",
      "execution_count": null,
      "metadata": {
        "id": "xjKLiexmZ8a1"
      },
      "outputs": [],
      "source": []
    },
    {
      "cell_type": "code",
      "execution_count": null,
      "metadata": {
        "id": "1yXYZ76zZ8X7"
      },
      "outputs": [],
      "source": []
    },
    {
      "cell_type": "code",
      "execution_count": null,
      "metadata": {
        "id": "JWRuDvtFZ8VO"
      },
      "outputs": [],
      "source": []
    },
    {
      "cell_type": "code",
      "execution_count": null,
      "metadata": {
        "id": "x0d91ZNsZ8PN"
      },
      "outputs": [],
      "source": []
    },
    {
      "cell_type": "code",
      "execution_count": null,
      "metadata": {
        "id": "uqLNzWZvZ8Ck"
      },
      "outputs": [],
      "source": []
    }
  ],
  "metadata": {
    "colab": {
      "provenance": []
    },
    "kernelspec": {
      "display_name": "Python 3",
      "name": "python3"
    },
    "language_info": {
      "name": "python"
    }
  },
  "nbformat": 4,
  "nbformat_minor": 0
}