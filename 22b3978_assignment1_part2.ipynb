{
  "nbformat": 4,
  "nbformat_minor": 0,
  "metadata": {
    "colab": {
      "provenance": []
    },
    "kernelspec": {
      "name": "python3",
      "display_name": "Python 3"
    },
    "language_info": {
      "name": "python"
    }
  },
  "cells": [
    {
      "cell_type": "markdown",
      "source": [
        "#EE353:Assignment1\n",
        "Sanjay Meena\n",
        "\n",
        "22B3978\n"
      ],
      "metadata": {
        "id": "kahpviSvMvr1"
      }
    },
    {
      "cell_type": "markdown",
      "source": [
        "#Question2\n"
      ],
      "metadata": {
        "id": "nfr_0MQTM-71"
      }
    },
    {
      "cell_type": "markdown",
      "source": [
        "#1.Import Python Libraries"
      ],
      "metadata": {
        "id": "ExebGRVKOslJ"
      }
    },
    {
      "cell_type": "code",
      "source": [
        "#Import python libraries\n",
        "import pandas as pd\n",
        "import numpy as np\n",
        "import matplotlib.pyplot as plt\n",
        "import seaborn as sns"
      ],
      "metadata": {
        "id": "jcxE1wcaOlnW"
      },
      "execution_count": 42,
      "outputs": []
    },
    {
      "cell_type": "markdown",
      "source": [
        "#2.Upload File"
      ],
      "metadata": {
        "id": "rsmxK_WMNDGI"
      }
    },
    {
      "cell_type": "code",
      "source": [
        "#Yojana(PMGSY) in Google Colab Notebook\n",
        "df = pd.read_csv('QUESTION2_PMGSY_DATA.csv')\n"
      ],
      "metadata": {
        "id": "tbR1ob4DNFaP"
      },
      "execution_count": 45,
      "outputs": []
    },
    {
      "cell_type": "markdown",
      "source": [
        "# Understand Data"
      ],
      "metadata": {
        "id": "jr2i6z3Re1LH"
      }
    },
    {
      "cell_type": "code",
      "source": [
        "df.head()"
      ],
      "metadata": {
        "colab": {
          "base_uri": "https://localhost:8080/",
          "height": 330
        },
        "id": "-eeZGA_GTMCp",
        "outputId": "908bcb1b-846d-49cb-81d2-7db9a8aa3b05"
      },
      "execution_count": 47,
      "outputs": [
        {
          "output_type": "execute_result",
          "data": {
            "text/plain": [
              "       STATE_NAME             DISTRICT_NAME PMGSY_SCHEME  \\\n",
              "0  Andhra Pradesh     Alluri Sitharama Raju    PMGSY-III   \n",
              "1  Andhra Pradesh     Alluri Sitharama Raju    PM-JANMAN   \n",
              "2  Andhra Pradesh                Anakapalli     PMGSY-II   \n",
              "3  Andhra Pradesh                   Bapatla     PMGSY-II   \n",
              "4  Andhra Pradesh  Dr BR Ambedkar Konaseema      PMGSY-I   \n",
              "\n",
              "   NO_OF_ROAD_WORK_SANCTIONED  NO_OF_BRIDGES_SANCTIONED  \\\n",
              "0                           3                         1   \n",
              "1                          96                         0   \n",
              "2                           5                         0   \n",
              "3                           6                         0   \n",
              "4                         209                         8   \n",
              "\n",
              "   NO_OF_ROAD_WORKS_COMPLETED  NO_OF_BRIDGES_COMPLETED  \\\n",
              "0                           2                        0   \n",
              "1                           0                        0   \n",
              "2                           5                        0   \n",
              "3                           6                        0   \n",
              "4                         209                        8   \n",
              "\n",
              "   NO_OF_ROAD_WORKS_BALANCE  NO_OF_BRIDGES_BALANCE  \\\n",
              "0                         1                      1   \n",
              "1                        96                      0   \n",
              "2                         0                      0   \n",
              "3                         0                      0   \n",
              "4                         0                      0   \n",
              "\n",
              "   LENGTH_OF_ROAD_WORK_SANCTIONED_KM  COST_OF_WORKS_SANCTIONED_LAKHS  \\\n",
              "0                              29.10                        15.62000   \n",
              "1                             218.48                       196.47953   \n",
              "2                              34.62                        21.30900   \n",
              "3                              53.43                        28.74360   \n",
              "4                             443.65                       126.98220   \n",
              "\n",
              "   LENGTH_OF_ROAD_WORK_COMPLETED_KM  EXPENDITURE_OCCURED_LAKHS  \\\n",
              "0                            18.730                     5.5321   \n",
              "1                             0.000                     0.0000   \n",
              "2                            31.291                    16.1277   \n",
              "3                            53.763                    24.3953   \n",
              "4                           427.215                   141.9707   \n",
              "\n",
              "   LENGTH_OF_ROAD_WORK_BALANCE_KM  \n",
              "0                           11.20  \n",
              "1                          218.48  \n",
              "2                            0.00  \n",
              "3                            0.00  \n",
              "4                            0.00  "
            ],
            "text/html": [
              "\n",
              "  <div id=\"df-4647d35f-4c24-491c-ae21-593a737bfa4f\" class=\"colab-df-container\">\n",
              "    <div>\n",
              "<style scoped>\n",
              "    .dataframe tbody tr th:only-of-type {\n",
              "        vertical-align: middle;\n",
              "    }\n",
              "\n",
              "    .dataframe tbody tr th {\n",
              "        vertical-align: top;\n",
              "    }\n",
              "\n",
              "    .dataframe thead th {\n",
              "        text-align: right;\n",
              "    }\n",
              "</style>\n",
              "<table border=\"1\" class=\"dataframe\">\n",
              "  <thead>\n",
              "    <tr style=\"text-align: right;\">\n",
              "      <th></th>\n",
              "      <th>STATE_NAME</th>\n",
              "      <th>DISTRICT_NAME</th>\n",
              "      <th>PMGSY_SCHEME</th>\n",
              "      <th>NO_OF_ROAD_WORK_SANCTIONED</th>\n",
              "      <th>NO_OF_BRIDGES_SANCTIONED</th>\n",
              "      <th>NO_OF_ROAD_WORKS_COMPLETED</th>\n",
              "      <th>NO_OF_BRIDGES_COMPLETED</th>\n",
              "      <th>NO_OF_ROAD_WORKS_BALANCE</th>\n",
              "      <th>NO_OF_BRIDGES_BALANCE</th>\n",
              "      <th>LENGTH_OF_ROAD_WORK_SANCTIONED_KM</th>\n",
              "      <th>COST_OF_WORKS_SANCTIONED_LAKHS</th>\n",
              "      <th>LENGTH_OF_ROAD_WORK_COMPLETED_KM</th>\n",
              "      <th>EXPENDITURE_OCCURED_LAKHS</th>\n",
              "      <th>LENGTH_OF_ROAD_WORK_BALANCE_KM</th>\n",
              "    </tr>\n",
              "  </thead>\n",
              "  <tbody>\n",
              "    <tr>\n",
              "      <th>0</th>\n",
              "      <td>Andhra Pradesh</td>\n",
              "      <td>Alluri Sitharama Raju</td>\n",
              "      <td>PMGSY-III</td>\n",
              "      <td>3</td>\n",
              "      <td>1</td>\n",
              "      <td>2</td>\n",
              "      <td>0</td>\n",
              "      <td>1</td>\n",
              "      <td>1</td>\n",
              "      <td>29.10</td>\n",
              "      <td>15.62000</td>\n",
              "      <td>18.730</td>\n",
              "      <td>5.5321</td>\n",
              "      <td>11.20</td>\n",
              "    </tr>\n",
              "    <tr>\n",
              "      <th>1</th>\n",
              "      <td>Andhra Pradesh</td>\n",
              "      <td>Alluri Sitharama Raju</td>\n",
              "      <td>PM-JANMAN</td>\n",
              "      <td>96</td>\n",
              "      <td>0</td>\n",
              "      <td>0</td>\n",
              "      <td>0</td>\n",
              "      <td>96</td>\n",
              "      <td>0</td>\n",
              "      <td>218.48</td>\n",
              "      <td>196.47953</td>\n",
              "      <td>0.000</td>\n",
              "      <td>0.0000</td>\n",
              "      <td>218.48</td>\n",
              "    </tr>\n",
              "    <tr>\n",
              "      <th>2</th>\n",
              "      <td>Andhra Pradesh</td>\n",
              "      <td>Anakapalli</td>\n",
              "      <td>PMGSY-II</td>\n",
              "      <td>5</td>\n",
              "      <td>0</td>\n",
              "      <td>5</td>\n",
              "      <td>0</td>\n",
              "      <td>0</td>\n",
              "      <td>0</td>\n",
              "      <td>34.62</td>\n",
              "      <td>21.30900</td>\n",
              "      <td>31.291</td>\n",
              "      <td>16.1277</td>\n",
              "      <td>0.00</td>\n",
              "    </tr>\n",
              "    <tr>\n",
              "      <th>3</th>\n",
              "      <td>Andhra Pradesh</td>\n",
              "      <td>Bapatla</td>\n",
              "      <td>PMGSY-II</td>\n",
              "      <td>6</td>\n",
              "      <td>0</td>\n",
              "      <td>6</td>\n",
              "      <td>0</td>\n",
              "      <td>0</td>\n",
              "      <td>0</td>\n",
              "      <td>53.43</td>\n",
              "      <td>28.74360</td>\n",
              "      <td>53.763</td>\n",
              "      <td>24.3953</td>\n",
              "      <td>0.00</td>\n",
              "    </tr>\n",
              "    <tr>\n",
              "      <th>4</th>\n",
              "      <td>Andhra Pradesh</td>\n",
              "      <td>Dr BR Ambedkar Konaseema</td>\n",
              "      <td>PMGSY-I</td>\n",
              "      <td>209</td>\n",
              "      <td>8</td>\n",
              "      <td>209</td>\n",
              "      <td>8</td>\n",
              "      <td>0</td>\n",
              "      <td>0</td>\n",
              "      <td>443.65</td>\n",
              "      <td>126.98220</td>\n",
              "      <td>427.215</td>\n",
              "      <td>141.9707</td>\n",
              "      <td>0.00</td>\n",
              "    </tr>\n",
              "  </tbody>\n",
              "</table>\n",
              "</div>\n",
              "    <div class=\"colab-df-buttons\">\n",
              "\n",
              "  <div class=\"colab-df-container\">\n",
              "    <button class=\"colab-df-convert\" onclick=\"convertToInteractive('df-4647d35f-4c24-491c-ae21-593a737bfa4f')\"\n",
              "            title=\"Convert this dataframe to an interactive table.\"\n",
              "            style=\"display:none;\">\n",
              "\n",
              "  <svg xmlns=\"http://www.w3.org/2000/svg\" height=\"24px\" viewBox=\"0 -960 960 960\">\n",
              "    <path d=\"M120-120v-720h720v720H120Zm60-500h600v-160H180v160Zm220 220h160v-160H400v160Zm0 220h160v-160H400v160ZM180-400h160v-160H180v160Zm440 0h160v-160H620v160ZM180-180h160v-160H180v160Zm440 0h160v-160H620v160Z\"/>\n",
              "  </svg>\n",
              "    </button>\n",
              "\n",
              "  <style>\n",
              "    .colab-df-container {\n",
              "      display:flex;\n",
              "      gap: 12px;\n",
              "    }\n",
              "\n",
              "    .colab-df-convert {\n",
              "      background-color: #E8F0FE;\n",
              "      border: none;\n",
              "      border-radius: 50%;\n",
              "      cursor: pointer;\n",
              "      display: none;\n",
              "      fill: #1967D2;\n",
              "      height: 32px;\n",
              "      padding: 0 0 0 0;\n",
              "      width: 32px;\n",
              "    }\n",
              "\n",
              "    .colab-df-convert:hover {\n",
              "      background-color: #E2EBFA;\n",
              "      box-shadow: 0px 1px 2px rgba(60, 64, 67, 0.3), 0px 1px 3px 1px rgba(60, 64, 67, 0.15);\n",
              "      fill: #174EA6;\n",
              "    }\n",
              "\n",
              "    .colab-df-buttons div {\n",
              "      margin-bottom: 4px;\n",
              "    }\n",
              "\n",
              "    [theme=dark] .colab-df-convert {\n",
              "      background-color: #3B4455;\n",
              "      fill: #D2E3FC;\n",
              "    }\n",
              "\n",
              "    [theme=dark] .colab-df-convert:hover {\n",
              "      background-color: #434B5C;\n",
              "      box-shadow: 0px 1px 3px 1px rgba(0, 0, 0, 0.15);\n",
              "      filter: drop-shadow(0px 1px 2px rgba(0, 0, 0, 0.3));\n",
              "      fill: #FFFFFF;\n",
              "    }\n",
              "  </style>\n",
              "\n",
              "    <script>\n",
              "      const buttonEl =\n",
              "        document.querySelector('#df-4647d35f-4c24-491c-ae21-593a737bfa4f button.colab-df-convert');\n",
              "      buttonEl.style.display =\n",
              "        google.colab.kernel.accessAllowed ? 'block' : 'none';\n",
              "\n",
              "      async function convertToInteractive(key) {\n",
              "        const element = document.querySelector('#df-4647d35f-4c24-491c-ae21-593a737bfa4f');\n",
              "        const dataTable =\n",
              "          await google.colab.kernel.invokeFunction('convertToInteractive',\n",
              "                                                    [key], {});\n",
              "        if (!dataTable) return;\n",
              "\n",
              "        const docLinkHtml = 'Like what you see? Visit the ' +\n",
              "          '<a target=\"_blank\" href=https://colab.research.google.com/notebooks/data_table.ipynb>data table notebook</a>'\n",
              "          + ' to learn more about interactive tables.';\n",
              "        element.innerHTML = '';\n",
              "        dataTable['output_type'] = 'display_data';\n",
              "        await google.colab.output.renderOutput(dataTable, element);\n",
              "        const docLink = document.createElement('div');\n",
              "        docLink.innerHTML = docLinkHtml;\n",
              "        element.appendChild(docLink);\n",
              "      }\n",
              "    </script>\n",
              "  </div>\n",
              "\n",
              "\n",
              "<div id=\"df-6b8b17cb-6963-4642-a14c-8570523b94aa\">\n",
              "  <button class=\"colab-df-quickchart\" onclick=\"quickchart('df-6b8b17cb-6963-4642-a14c-8570523b94aa')\"\n",
              "            title=\"Suggest charts\"\n",
              "            style=\"display:none;\">\n",
              "\n",
              "<svg xmlns=\"http://www.w3.org/2000/svg\" height=\"24px\"viewBox=\"0 0 24 24\"\n",
              "     width=\"24px\">\n",
              "    <g>\n",
              "        <path d=\"M19 3H5c-1.1 0-2 .9-2 2v14c0 1.1.9 2 2 2h14c1.1 0 2-.9 2-2V5c0-1.1-.9-2-2-2zM9 17H7v-7h2v7zm4 0h-2V7h2v10zm4 0h-2v-4h2v4z\"/>\n",
              "    </g>\n",
              "</svg>\n",
              "  </button>\n",
              "\n",
              "<style>\n",
              "  .colab-df-quickchart {\n",
              "      --bg-color: #E8F0FE;\n",
              "      --fill-color: #1967D2;\n",
              "      --hover-bg-color: #E2EBFA;\n",
              "      --hover-fill-color: #174EA6;\n",
              "      --disabled-fill-color: #AAA;\n",
              "      --disabled-bg-color: #DDD;\n",
              "  }\n",
              "\n",
              "  [theme=dark] .colab-df-quickchart {\n",
              "      --bg-color: #3B4455;\n",
              "      --fill-color: #D2E3FC;\n",
              "      --hover-bg-color: #434B5C;\n",
              "      --hover-fill-color: #FFFFFF;\n",
              "      --disabled-bg-color: #3B4455;\n",
              "      --disabled-fill-color: #666;\n",
              "  }\n",
              "\n",
              "  .colab-df-quickchart {\n",
              "    background-color: var(--bg-color);\n",
              "    border: none;\n",
              "    border-radius: 50%;\n",
              "    cursor: pointer;\n",
              "    display: none;\n",
              "    fill: var(--fill-color);\n",
              "    height: 32px;\n",
              "    padding: 0;\n",
              "    width: 32px;\n",
              "  }\n",
              "\n",
              "  .colab-df-quickchart:hover {\n",
              "    background-color: var(--hover-bg-color);\n",
              "    box-shadow: 0 1px 2px rgba(60, 64, 67, 0.3), 0 1px 3px 1px rgba(60, 64, 67, 0.15);\n",
              "    fill: var(--button-hover-fill-color);\n",
              "  }\n",
              "\n",
              "  .colab-df-quickchart-complete:disabled,\n",
              "  .colab-df-quickchart-complete:disabled:hover {\n",
              "    background-color: var(--disabled-bg-color);\n",
              "    fill: var(--disabled-fill-color);\n",
              "    box-shadow: none;\n",
              "  }\n",
              "\n",
              "  .colab-df-spinner {\n",
              "    border: 2px solid var(--fill-color);\n",
              "    border-color: transparent;\n",
              "    border-bottom-color: var(--fill-color);\n",
              "    animation:\n",
              "      spin 1s steps(1) infinite;\n",
              "  }\n",
              "\n",
              "  @keyframes spin {\n",
              "    0% {\n",
              "      border-color: transparent;\n",
              "      border-bottom-color: var(--fill-color);\n",
              "      border-left-color: var(--fill-color);\n",
              "    }\n",
              "    20% {\n",
              "      border-color: transparent;\n",
              "      border-left-color: var(--fill-color);\n",
              "      border-top-color: var(--fill-color);\n",
              "    }\n",
              "    30% {\n",
              "      border-color: transparent;\n",
              "      border-left-color: var(--fill-color);\n",
              "      border-top-color: var(--fill-color);\n",
              "      border-right-color: var(--fill-color);\n",
              "    }\n",
              "    40% {\n",
              "      border-color: transparent;\n",
              "      border-right-color: var(--fill-color);\n",
              "      border-top-color: var(--fill-color);\n",
              "    }\n",
              "    60% {\n",
              "      border-color: transparent;\n",
              "      border-right-color: var(--fill-color);\n",
              "    }\n",
              "    80% {\n",
              "      border-color: transparent;\n",
              "      border-right-color: var(--fill-color);\n",
              "      border-bottom-color: var(--fill-color);\n",
              "    }\n",
              "    90% {\n",
              "      border-color: transparent;\n",
              "      border-bottom-color: var(--fill-color);\n",
              "    }\n",
              "  }\n",
              "</style>\n",
              "\n",
              "  <script>\n",
              "    async function quickchart(key) {\n",
              "      const quickchartButtonEl =\n",
              "        document.querySelector('#' + key + ' button');\n",
              "      quickchartButtonEl.disabled = true;  // To prevent multiple clicks.\n",
              "      quickchartButtonEl.classList.add('colab-df-spinner');\n",
              "      try {\n",
              "        const charts = await google.colab.kernel.invokeFunction(\n",
              "            'suggestCharts', [key], {});\n",
              "      } catch (error) {\n",
              "        console.error('Error during call to suggestCharts:', error);\n",
              "      }\n",
              "      quickchartButtonEl.classList.remove('colab-df-spinner');\n",
              "      quickchartButtonEl.classList.add('colab-df-quickchart-complete');\n",
              "    }\n",
              "    (() => {\n",
              "      let quickchartButtonEl =\n",
              "        document.querySelector('#df-6b8b17cb-6963-4642-a14c-8570523b94aa button');\n",
              "      quickchartButtonEl.style.display =\n",
              "        google.colab.kernel.accessAllowed ? 'block' : 'none';\n",
              "    })();\n",
              "  </script>\n",
              "</div>\n",
              "\n",
              "    </div>\n",
              "  </div>\n"
            ],
            "application/vnd.google.colaboratory.intrinsic+json": {
              "type": "dataframe",
              "variable_name": "df",
              "summary": "{\n  \"name\": \"df\",\n  \"rows\": 2240,\n  \"fields\": [\n    {\n      \"column\": \"STATE_NAME\",\n      \"properties\": {\n        \"dtype\": \"category\",\n        \"num_unique_values\": 32,\n        \"samples\": [\n          \"Puducherry\",\n          \"Manipur\",\n          \"Telangana\"\n        ],\n        \"semantic_type\": \"\",\n        \"description\": \"\"\n      }\n    },\n    {\n      \"column\": \"DISTRICT_NAME\",\n      \"properties\": {\n        \"dtype\": \"category\",\n        \"num_unique_values\": 715,\n        \"samples\": [\n          \"Reasi\",\n          \"Dhubri\",\n          \"Nowgaon\"\n        ],\n        \"semantic_type\": \"\",\n        \"description\": \"\"\n      }\n    },\n    {\n      \"column\": \"PMGSY_SCHEME\",\n      \"properties\": {\n        \"dtype\": \"category\",\n        \"num_unique_values\": 5,\n        \"samples\": [\n          \"PM-JANMAN\",\n          \"RCPLWEA\",\n          \"PMGSY-II\"\n        ],\n        \"semantic_type\": \"\",\n        \"description\": \"\"\n      }\n    },\n    {\n      \"column\": \"NO_OF_ROAD_WORK_SANCTIONED\",\n      \"properties\": {\n        \"dtype\": \"number\",\n        \"std\": 146,\n        \"min\": 0,\n        \"max\": 1263,\n        \"num_unique_values\": 419,\n        \"samples\": [\n          302,\n          119,\n          181\n        ],\n        \"semantic_type\": \"\",\n        \"description\": \"\"\n      }\n    },\n    {\n      \"column\": \"NO_OF_BRIDGES_SANCTIONED\",\n      \"properties\": {\n        \"dtype\": \"number\",\n        \"std\": 13,\n        \"min\": 0,\n        \"max\": 220,\n        \"num_unique_values\": 75,\n        \"samples\": [\n          4,\n          53,\n          17\n        ],\n        \"semantic_type\": \"\",\n        \"description\": \"\"\n      }\n    },\n    {\n      \"column\": \"NO_OF_ROAD_WORKS_COMPLETED\",\n      \"properties\": {\n        \"dtype\": \"number\",\n        \"std\": 147,\n        \"min\": 0,\n        \"max\": 1263,\n        \"num_unique_values\": 405,\n        \"samples\": [\n          668,\n          234,\n          519\n        ],\n        \"semantic_type\": \"\",\n        \"description\": \"\"\n      }\n    },\n    {\n      \"column\": \"NO_OF_BRIDGES_COMPLETED\",\n      \"properties\": {\n        \"dtype\": \"number\",\n        \"std\": 11,\n        \"min\": 0,\n        \"max\": 209,\n        \"num_unique_values\": 68,\n        \"samples\": [\n          157,\n          12,\n          4\n        ],\n        \"semantic_type\": \"\",\n        \"description\": \"\"\n      }\n    },\n    {\n      \"column\": \"NO_OF_ROAD_WORKS_BALANCE\",\n      \"properties\": {\n        \"dtype\": \"number\",\n        \"std\": 8,\n        \"min\": 0,\n        \"max\": 121,\n        \"num_unique_values\": 55,\n        \"samples\": [\n          28,\n          19,\n          16\n        ],\n        \"semantic_type\": \"\",\n        \"description\": \"\"\n      }\n    },\n    {\n      \"column\": \"NO_OF_BRIDGES_BALANCE\",\n      \"properties\": {\n        \"dtype\": \"number\",\n        \"std\": 5,\n        \"min\": 0,\n        \"max\": 106,\n        \"num_unique_values\": 35,\n        \"samples\": [\n          21,\n          22,\n          34\n        ],\n        \"semantic_type\": \"\",\n        \"description\": \"\"\n      }\n    },\n    {\n      \"column\": \"LENGTH_OF_ROAD_WORK_SANCTIONED_KM\",\n      \"properties\": {\n        \"dtype\": \"number\",\n        \"std\": 558.833188667006,\n        \"min\": 0.0,\n        \"max\": 4546.134,\n        \"num_unique_values\": 2191,\n        \"samples\": [\n          99.65,\n          176.148,\n          618.22\n        ],\n        \"semantic_type\": \"\",\n        \"description\": \"\"\n      }\n    },\n    {\n      \"column\": \"COST_OF_WORKS_SANCTIONED_LAKHS\",\n      \"properties\": {\n        \"dtype\": \"number\",\n        \"std\": 241.0749737870091,\n        \"min\": 0.433,\n        \"max\": 2004.87157,\n        \"num_unique_values\": 2240,\n        \"samples\": [\n          182.49343,\n          4.9002,\n          116.79269\n        ],\n        \"semantic_type\": \"\",\n        \"description\": \"\"\n      }\n    },\n    {\n      \"column\": \"LENGTH_OF_ROAD_WORK_COMPLETED_KM\",\n      \"properties\": {\n        \"dtype\": \"number\",\n        \"std\": 544.8055756496495,\n        \"min\": 0.0,\n        \"max\": 4349.94,\n        \"num_unique_values\": 2063,\n        \"samples\": [\n          1862.882,\n          134.31,\n          118.5\n        ],\n        \"semantic_type\": \"\",\n        \"description\": \"\"\n      }\n    },\n    {\n      \"column\": \"EXPENDITURE_OCCURED_LAKHS\",\n      \"properties\": {\n        \"dtype\": \"number\",\n        \"std\": 230.11689006448358,\n        \"min\": -267.0415,\n        \"max\": 1962.2206,\n        \"num_unique_values\": 2120,\n        \"samples\": [\n          129.6658,\n          833.0668,\n          2.8514\n        ],\n        \"semantic_type\": \"\",\n        \"description\": \"\"\n      }\n    },\n    {\n      \"column\": \"LENGTH_OF_ROAD_WORK_BALANCE_KM\",\n      \"properties\": {\n        \"dtype\": \"number\",\n        \"std\": 48.29689872088021,\n        \"min\": 0.0,\n        \"max\": 571.68,\n        \"num_unique_values\": 830,\n        \"samples\": [\n          3.995,\n          2.533,\n          26.0\n        ],\n        \"semantic_type\": \"\",\n        \"description\": \"\"\n      }\n    }\n  ]\n}"
            }
          },
          "metadata": {},
          "execution_count": 47
        }
      ]
    },
    {
      "cell_type": "code",
      "source": [
        "df.columns #column name"
      ],
      "metadata": {
        "colab": {
          "base_uri": "https://localhost:8080/"
        },
        "id": "36dA8rGSVPUo",
        "outputId": "ecf2ec2b-c6e9-4400-d251-131087f7734d"
      },
      "execution_count": 29,
      "outputs": [
        {
          "output_type": "execute_result",
          "data": {
            "text/plain": [
              "Index(['COMM_NAME', 'COMM_CODE', 'COMM_WT', 'INDEX2011', 'INDEX20112012',\n",
              "       'INDEX2012', 'INDEX20122013', 'INDEX2013', 'INDEX20132014', 'INDEX2014',\n",
              "       'INDEX20142015', 'INDEX2015', 'INDEX20152016', 'INDEX2016',\n",
              "       'INDEX20162017', 'INDEX2017', 'INDEX20172018', 'INDEX2018',\n",
              "       'INDEX20182019', 'INDEX2019', 'INDEX20192020', 'INDEX2020',\n",
              "       'INDEX20202021', 'INDEX2021', 'INDEX20212022', 'INDEX2022',\n",
              "       'INDEX20222023'],\n",
              "      dtype='object')"
            ]
          },
          "metadata": {},
          "execution_count": 29
        }
      ]
    },
    {
      "cell_type": "code",
      "source": [
        "# Get basic information about the dataset\n",
        "df.info()\n"
      ],
      "metadata": {
        "colab": {
          "base_uri": "https://localhost:8080/"
        },
        "id": "FNHaVFNGYRHk",
        "outputId": "dcbba7d1-7d3c-477a-8134-de1977377db2"
      },
      "execution_count": 48,
      "outputs": [
        {
          "output_type": "stream",
          "name": "stdout",
          "text": [
            "<class 'pandas.core.frame.DataFrame'>\n",
            "RangeIndex: 2240 entries, 0 to 2239\n",
            "Data columns (total 14 columns):\n",
            " #   Column                             Non-Null Count  Dtype  \n",
            "---  ------                             --------------  -----  \n",
            " 0   STATE_NAME                         2240 non-null   object \n",
            " 1   DISTRICT_NAME                      2240 non-null   object \n",
            " 2   PMGSY_SCHEME                       2240 non-null   object \n",
            " 3   NO_OF_ROAD_WORK_SANCTIONED         2240 non-null   int64  \n",
            " 4   NO_OF_BRIDGES_SANCTIONED           2240 non-null   int64  \n",
            " 5   NO_OF_ROAD_WORKS_COMPLETED         2240 non-null   int64  \n",
            " 6   NO_OF_BRIDGES_COMPLETED            2240 non-null   int64  \n",
            " 7   NO_OF_ROAD_WORKS_BALANCE           2240 non-null   int64  \n",
            " 8   NO_OF_BRIDGES_BALANCE              2240 non-null   int64  \n",
            " 9   LENGTH_OF_ROAD_WORK_SANCTIONED_KM  2240 non-null   float64\n",
            " 10  COST_OF_WORKS_SANCTIONED_LAKHS     2240 non-null   float64\n",
            " 11  LENGTH_OF_ROAD_WORK_COMPLETED_KM   2240 non-null   float64\n",
            " 12  EXPENDITURE_OCCURED_LAKHS          2240 non-null   float64\n",
            " 13  LENGTH_OF_ROAD_WORK_BALANCE_KM     2240 non-null   float64\n",
            "dtypes: float64(5), int64(6), object(3)\n",
            "memory usage: 245.1+ KB\n"
          ]
        }
      ]
    },
    {
      "cell_type": "markdown",
      "source": [
        "#3.EDA"
      ],
      "metadata": {
        "id": "Tc-boWETcCot"
      }
    },
    {
      "cell_type": "code",
      "source": [
        "# Check for missing values\n",
        "df.isnull().sum()"
      ],
      "metadata": {
        "colab": {
          "base_uri": "https://localhost:8080/",
          "height": 523
        },
        "id": "j55YbIXkYRX8",
        "outputId": "4a8fc900-470b-4446-c307-ef4c38fbf1ea"
      },
      "execution_count": 49,
      "outputs": [
        {
          "output_type": "execute_result",
          "data": {
            "text/plain": [
              "STATE_NAME                           0\n",
              "DISTRICT_NAME                        0\n",
              "PMGSY_SCHEME                         0\n",
              "NO_OF_ROAD_WORK_SANCTIONED           0\n",
              "NO_OF_BRIDGES_SANCTIONED             0\n",
              "NO_OF_ROAD_WORKS_COMPLETED           0\n",
              "NO_OF_BRIDGES_COMPLETED              0\n",
              "NO_OF_ROAD_WORKS_BALANCE             0\n",
              "NO_OF_BRIDGES_BALANCE                0\n",
              "LENGTH_OF_ROAD_WORK_SANCTIONED_KM    0\n",
              "COST_OF_WORKS_SANCTIONED_LAKHS       0\n",
              "LENGTH_OF_ROAD_WORK_COMPLETED_KM     0\n",
              "EXPENDITURE_OCCURED_LAKHS            0\n",
              "LENGTH_OF_ROAD_WORK_BALANCE_KM       0\n",
              "dtype: int64"
            ],
            "text/html": [
              "<div>\n",
              "<style scoped>\n",
              "    .dataframe tbody tr th:only-of-type {\n",
              "        vertical-align: middle;\n",
              "    }\n",
              "\n",
              "    .dataframe tbody tr th {\n",
              "        vertical-align: top;\n",
              "    }\n",
              "\n",
              "    .dataframe thead th {\n",
              "        text-align: right;\n",
              "    }\n",
              "</style>\n",
              "<table border=\"1\" class=\"dataframe\">\n",
              "  <thead>\n",
              "    <tr style=\"text-align: right;\">\n",
              "      <th></th>\n",
              "      <th>0</th>\n",
              "    </tr>\n",
              "  </thead>\n",
              "  <tbody>\n",
              "    <tr>\n",
              "      <th>STATE_NAME</th>\n",
              "      <td>0</td>\n",
              "    </tr>\n",
              "    <tr>\n",
              "      <th>DISTRICT_NAME</th>\n",
              "      <td>0</td>\n",
              "    </tr>\n",
              "    <tr>\n",
              "      <th>PMGSY_SCHEME</th>\n",
              "      <td>0</td>\n",
              "    </tr>\n",
              "    <tr>\n",
              "      <th>NO_OF_ROAD_WORK_SANCTIONED</th>\n",
              "      <td>0</td>\n",
              "    </tr>\n",
              "    <tr>\n",
              "      <th>NO_OF_BRIDGES_SANCTIONED</th>\n",
              "      <td>0</td>\n",
              "    </tr>\n",
              "    <tr>\n",
              "      <th>NO_OF_ROAD_WORKS_COMPLETED</th>\n",
              "      <td>0</td>\n",
              "    </tr>\n",
              "    <tr>\n",
              "      <th>NO_OF_BRIDGES_COMPLETED</th>\n",
              "      <td>0</td>\n",
              "    </tr>\n",
              "    <tr>\n",
              "      <th>NO_OF_ROAD_WORKS_BALANCE</th>\n",
              "      <td>0</td>\n",
              "    </tr>\n",
              "    <tr>\n",
              "      <th>NO_OF_BRIDGES_BALANCE</th>\n",
              "      <td>0</td>\n",
              "    </tr>\n",
              "    <tr>\n",
              "      <th>LENGTH_OF_ROAD_WORK_SANCTIONED_KM</th>\n",
              "      <td>0</td>\n",
              "    </tr>\n",
              "    <tr>\n",
              "      <th>COST_OF_WORKS_SANCTIONED_LAKHS</th>\n",
              "      <td>0</td>\n",
              "    </tr>\n",
              "    <tr>\n",
              "      <th>LENGTH_OF_ROAD_WORK_COMPLETED_KM</th>\n",
              "      <td>0</td>\n",
              "    </tr>\n",
              "    <tr>\n",
              "      <th>EXPENDITURE_OCCURED_LAKHS</th>\n",
              "      <td>0</td>\n",
              "    </tr>\n",
              "    <tr>\n",
              "      <th>LENGTH_OF_ROAD_WORK_BALANCE_KM</th>\n",
              "      <td>0</td>\n",
              "    </tr>\n",
              "  </tbody>\n",
              "</table>\n",
              "</div><br><label><b>dtype:</b> int64</label>"
            ]
          },
          "metadata": {},
          "execution_count": 49
        }
      ]
    },
    {
      "cell_type": "markdown",
      "source": [
        "#4.Visualise Graphs"
      ],
      "metadata": {
        "id": "Owl3ksBWcdPR"
      }
    },
    {
      "cell_type": "code",
      "source": [
        "#Different plots\n",
        "# Plot1. Distribution of the Sanctioned and Completed Road Works\n",
        "plt.figure(figsize=(12, 6))\n",
        "sns.histplot(df['NO_OF_ROAD_WORK_SANCTIONED'], bins=30, color='skyblue', label='Sanctioned Road Works', kde=True)\n",
        "sns.histplot(df['NO_OF_ROAD_WORKS_COMPLETED'], bins=30, color='orange', label='Completed Road Works', kde=True)\n",
        "plt.title('Distribution of Sanctioned vs Completed Road Works')\n",
        "plt.xlabel('Number of Road Works')\n",
        "plt.ylabel('Frequency')\n",
        "plt.legend()\n",
        "plt.show()\n",
        "\n",
        "# Plot2. Distribution of Expenditure on Completed Works\n",
        "plt.figure(figsize=(12, 6))\n",
        "sns.histplot(df['EXPENDITURE_OCCURED_LAKHS'], bins=30, color='red', kde=True)\n",
        "plt.title('Distribution of Expenditure on Completed Road Works')\n",
        "plt.xlabel('Expenditure (in Lakhs)')\n",
        "plt.ylabel('Frequency')\n",
        "plt.show()\n",
        "\n",
        "# Plot3. Scatter Plot of Length of Road Completed vs Expenditure\n",
        "plt.figure(figsize=(12, 6))\n",
        "sns.scatterplot(x='LENGTH_OF_ROAD_WORK_COMPLETED_KM', y='EXPENDITURE_OCCURED_LAKHS', data=df, color='blue')\n",
        "plt.title('Length of Road Completed vs Expenditure')\n",
        "plt.xlabel('Length of Road Completed (in KM)')\n",
        "plt.ylabel('Expenditure(in Lakhs)')\n",
        "plt.show()\n",
        "\n"
      ],
      "metadata": {
        "colab": {
          "base_uri": "https://localhost:8080/",
          "height": 480
        },
        "id": "AbkNlryOYRkI",
        "outputId": "5844bb0d-3d36-44d6-9f93-a2477758e4b1"
      },
      "execution_count": 50,
      "outputs": [
        {
          "output_type": "display_data",
          "data": {
            "text/plain": [
              "<Figure size 1200x600 with 1 Axes>"
            ],
            "image/png": "[encoded data removed]"
          },
          "metadata": {}
        }
      ]
    },
    {
      "cell_type": "markdown",
      "source": [
        "#5.Statstical Analysis"
      ],
      "metadata": {
        "id": "YUBxqHpAWNJk"
      }
    },
    {
      "cell_type": "code",
      "source": [
        "# Performing Pearson correlation test between the length of road completed and expenditure\n",
        "correlation, p_value = stats.pearsonr(df['LENGTH_OF_ROAD_WORK_COMPLETED_KM'], df['EXPENDITURE_OCCURED_LAKHS'])\n",
        "\n",
        "# Displaying the correlation and p-value\n",
        "print(f\"Pearson Correlation: {correlation}\")\n",
        "print(f\"P-Value: {p_value}\")\n",
        "\n",
        "# Significance level\n",
        "alpha = 0.05\n",
        "# Decision on Hypothesis\n",
        "if p_value < alpha:\n",
        " print(\"Reject the null hypothesis because there is a statistically significant relationship.\")\n",
        "else:\n",
        " print(\"Fail to reject the null hypothesis because no statistically significant relationship found.\")"
      ],
      "metadata": {
        "colab": {
          "base_uri": "https://localhost:8080/"
        },
        "id": "dhuVXvwWUMVh",
        "outputId": "3b8d3bcd-2e44-4370-b705-047bd88b874c"
      },
      "execution_count": 51,
      "outputs": [
        {
          "output_type": "stream",
          "name": "stdout",
          "text": [
            "Pearson Correlation: 0.9013521696517615\n",
            "P-Value: 0.0\n",
            "Reject the null hypothesis because there is a statistically significant relationship.\n"
          ]
        }
      ]
    },
    {
      "cell_type": "markdown",
      "source": [
        "#Reference:-\n",
        "1. Use chatgpt:-\n",
        "* write the \"text of question\" and ask how to solve this question\n",
        "* Give me code for this question1\n",
        "* How to clean data\n",
        "* How to understand data\n",
        "* how do EDA in detail\n",
        "* explain statistical anaylsis\n",
        "* Explain this code in detail\n",
        "* what is Null Hypothesis\n",
        "2. Discuss with my friend Devtanu Barman\n",
        "3.Use Pandas Documentation (pandas.pydata.org),\n",
        "  Data Wrangling with Pandas (Real Python)"
      ],
      "metadata": {
        "id": "ltWkjdQEdA1_"
      }
    }
  ]
}